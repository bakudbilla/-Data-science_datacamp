{
 "cells": [
  {
   "cell_type": "markdown",
   "id": "59236861",
   "metadata": {},
   "source": [
    "![Newyork](istockphoto-533998713-612x612.jpg)"
   ]
  },
  {
   "cell_type": "markdown",
   "id": "507a74d7",
   "metadata": {},
   "source": [
    "Welcome to New York City, one of the most-visited cities in the world. There are many Airbnb listings in New York City to meet the high demand for temporary lodging for travelers, which can be anywhere between a few nights to many months. In this project, we will take a closer look at the New York Airbnb market by combining data from multiple file types like .csv, .tsv, and .xlsx.\n",
    "\n",
    "Recall that CSV, TSV, and Excel files are three common formats for storing data. Three files containing data on 2019 Airbnb listings are available to you:\n",
    "\n",
    "data/airbnb_price.csv This is a CSV file containing data on Airbnb listing prices and locations.\n",
    "\n",
    "listing_id: unique identifier of listing\n",
    "price: nightly listing price in USD\n",
    "nbhood_full: name of borough and neighborhood where listing is located\n",
    "data/airbnb_room_type.xlsx This is an Excel file containing data on Airbnb listing descriptions and room types.\n",
    "\n",
    "listing_id: unique identifier of listing\n",
    "description: listing description\n",
    "room_type: Airbnb has three types of rooms: shared rooms, private rooms, and entire homes/apartments\n",
    "data/airbnb_last_review.tsv This is a TSV file containing data on Airbnb host names and review dates.\n",
    "\n",
    "listing_id: unique identifier of listing\n",
    "host_name: name of listing host\n",
    "last_review: date when the listing was last reviewed"
   ]
  },
  {
   "cell_type": "markdown",
   "id": "2309ec83",
   "metadata": {},
   "source": [
    "As a consultant working for a real estate start-up, you have collected Airbnb listing data from various sources to investigate the short-term rental market in New York. You'll analyze this data to provide insights on private rooms to the real estate company.\n",
    "\n",
    "There are three files in the data folder: airbnb_price.csv, airbnb_room_type.xlsx, airbnb_last_review.tsv.\n",
    "\n",
    "What are the dates of the earliest and most recent reviews? Store these values as two separate variables with your preferred names.\n",
    "How many of the listings are private rooms? Save this into any variable.\n",
    "What is the average listing price? Round to the nearest two decimal places and save into a variable.\n",
    "Combine the new variables into one DataFrame called review_dates with four columns in the following order: first_reviewed, last_reviewed, nb_private_rooms, and avg_price. The DataFrame should only contain one row of values."
   ]
  },
  {
   "cell_type": "code",
   "execution_count": 60,
   "id": "14856d81",
   "metadata": {},
   "outputs": [],
   "source": [
    "import pandas as pd\n",
    "import numpy as np\n",
    "import matplotlib.pyplot as plt\n",
    "import seaborn as sns\n",
    "import datetime as dt"
   ]
  },
  {
   "cell_type": "code",
   "execution_count": 5,
   "id": "c8fa308d",
   "metadata": {},
   "outputs": [],
   "source": [
    "csv=pd.read_csv(\"airbnb_price.csv\")\n",
    "xlsx=pd.ExcelFile(\"airbnb_room_type.xlsx\")\n",
    "tsv=pd.read_csv(\"airbnb_last_review.tsv\", sep='\\t')\n"
   ]
  },
  {
   "cell_type": "code",
   "execution_count": 8,
   "id": "d16e9d28",
   "metadata": {},
   "outputs": [
    {
     "data": {
      "text/html": [
       "<div>\n",
       "<style scoped>\n",
       "    .dataframe tbody tr th:only-of-type {\n",
       "        vertical-align: middle;\n",
       "    }\n",
       "\n",
       "    .dataframe tbody tr th {\n",
       "        vertical-align: top;\n",
       "    }\n",
       "\n",
       "    .dataframe thead th {\n",
       "        text-align: right;\n",
       "    }\n",
       "</style>\n",
       "<table border=\"1\" class=\"dataframe\">\n",
       "  <thead>\n",
       "    <tr style=\"text-align: right;\">\n",
       "      <th></th>\n",
       "      <th>listing_id</th>\n",
       "      <th>price</th>\n",
       "      <th>nbhood_full</th>\n",
       "    </tr>\n",
       "  </thead>\n",
       "  <tbody>\n",
       "    <tr>\n",
       "      <th>0</th>\n",
       "      <td>2595</td>\n",
       "      <td>225 dollars</td>\n",
       "      <td>Manhattan, Midtown</td>\n",
       "    </tr>\n",
       "    <tr>\n",
       "      <th>1</th>\n",
       "      <td>3831</td>\n",
       "      <td>89 dollars</td>\n",
       "      <td>Brooklyn, Clinton Hill</td>\n",
       "    </tr>\n",
       "  </tbody>\n",
       "</table>\n",
       "</div>"
      ],
      "text/plain": [
       "   listing_id        price             nbhood_full\n",
       "0        2595  225 dollars      Manhattan, Midtown\n",
       "1        3831   89 dollars  Brooklyn, Clinton Hill"
      ]
     },
     "execution_count": 8,
     "metadata": {},
     "output_type": "execute_result"
    }
   ],
   "source": [
    "csv.head(2)"
   ]
  },
  {
   "cell_type": "code",
   "execution_count": 11,
   "id": "9f5eecfc",
   "metadata": {},
   "outputs": [],
   "source": [
    "    df1=xlsx.parse(0)"
   ]
  },
  {
   "cell_type": "code",
   "execution_count": 13,
   "id": "ef5417eb",
   "metadata": {},
   "outputs": [
    {
     "data": {
      "text/html": [
       "<div>\n",
       "<style scoped>\n",
       "    .dataframe tbody tr th:only-of-type {\n",
       "        vertical-align: middle;\n",
       "    }\n",
       "\n",
       "    .dataframe tbody tr th {\n",
       "        vertical-align: top;\n",
       "    }\n",
       "\n",
       "    .dataframe thead th {\n",
       "        text-align: right;\n",
       "    }\n",
       "</style>\n",
       "<table border=\"1\" class=\"dataframe\">\n",
       "  <thead>\n",
       "    <tr style=\"text-align: right;\">\n",
       "      <th></th>\n",
       "      <th>listing_id</th>\n",
       "      <th>description</th>\n",
       "      <th>room_type</th>\n",
       "    </tr>\n",
       "  </thead>\n",
       "  <tbody>\n",
       "    <tr>\n",
       "      <th>0</th>\n",
       "      <td>2595</td>\n",
       "      <td>Skylit Midtown Castle</td>\n",
       "      <td>Entire home/apt</td>\n",
       "    </tr>\n",
       "    <tr>\n",
       "      <th>1</th>\n",
       "      <td>3831</td>\n",
       "      <td>Cozy Entire Floor of Brownstone</td>\n",
       "      <td>Entire home/apt</td>\n",
       "    </tr>\n",
       "  </tbody>\n",
       "</table>\n",
       "</div>"
      ],
      "text/plain": [
       "   listing_id                      description        room_type\n",
       "0        2595            Skylit Midtown Castle  Entire home/apt\n",
       "1        3831  Cozy Entire Floor of Brownstone  Entire home/apt"
      ]
     },
     "execution_count": 13,
     "metadata": {},
     "output_type": "execute_result"
    }
   ],
   "source": [
    "df1.head(2)"
   ]
  },
  {
   "cell_type": "code",
   "execution_count": 21,
   "id": "a0f82f7a",
   "metadata": {},
   "outputs": [
    {
     "name": "stdout",
     "output_type": "stream",
     "text": [
      "Name of sheets:['airbnb_room_type']\n",
      "Number of sheets:1\n"
     ]
    }
   ],
   "source": [
    "# Get the sheet names from the Excel file\n",
    "sheet_names = xlsx.sheet_names\n",
    "\n",
    "# Count the number of sheets (worksheets) in the Excel file\n",
    "number_of_sheets = len(sheet_names)\n",
    "print(f\"Name of sheets:{sheet_names}\")\n",
    "print(f'Number of sheets:{number_of_sheets}')"
   ]
  },
  {
   "cell_type": "code",
   "execution_count": 23,
   "id": "186dad5d",
   "metadata": {},
   "outputs": [
    {
     "data": {
      "text/html": [
       "<div>\n",
       "<style scoped>\n",
       "    .dataframe tbody tr th:only-of-type {\n",
       "        vertical-align: middle;\n",
       "    }\n",
       "\n",
       "    .dataframe tbody tr th {\n",
       "        vertical-align: top;\n",
       "    }\n",
       "\n",
       "    .dataframe thead th {\n",
       "        text-align: right;\n",
       "    }\n",
       "</style>\n",
       "<table border=\"1\" class=\"dataframe\">\n",
       "  <thead>\n",
       "    <tr style=\"text-align: right;\">\n",
       "      <th></th>\n",
       "      <th>listing_id</th>\n",
       "      <th>host_name</th>\n",
       "      <th>last_review</th>\n",
       "    </tr>\n",
       "  </thead>\n",
       "  <tbody>\n",
       "    <tr>\n",
       "      <th>0</th>\n",
       "      <td>2595</td>\n",
       "      <td>Jennifer</td>\n",
       "      <td>May 21 2019</td>\n",
       "    </tr>\n",
       "    <tr>\n",
       "      <th>1</th>\n",
       "      <td>3831</td>\n",
       "      <td>LisaRoxanne</td>\n",
       "      <td>July 05 2019</td>\n",
       "    </tr>\n",
       "  </tbody>\n",
       "</table>\n",
       "</div>"
      ],
      "text/plain": [
       "   listing_id    host_name   last_review\n",
       "0        2595     Jennifer   May 21 2019\n",
       "1        3831  LisaRoxanne  July 05 2019"
      ]
     },
     "execution_count": 23,
     "metadata": {},
     "output_type": "execute_result"
    }
   ],
   "source": [
    "tsv.head(2)"
   ]
  },
  {
   "cell_type": "code",
   "execution_count": 25,
   "id": "f3a01b6a",
   "metadata": {},
   "outputs": [],
   "source": [
    "# First merge: Merge df1 and df2 on 'key_column'\n",
    "merged_df = pd.merge(csv, df1, on='listing_id', how='inner')\n",
    "\n",
    "# Second merge: Merge the result with df3 on 'key_column'\n",
    "merged_df = pd.merge(merged_df, tsv, on='listing_id', how='inner')"
   ]
  },
  {
   "cell_type": "code",
   "execution_count": 26,
   "id": "690bd66e",
   "metadata": {},
   "outputs": [
    {
     "data": {
      "text/html": [
       "<div>\n",
       "<style scoped>\n",
       "    .dataframe tbody tr th:only-of-type {\n",
       "        vertical-align: middle;\n",
       "    }\n",
       "\n",
       "    .dataframe tbody tr th {\n",
       "        vertical-align: top;\n",
       "    }\n",
       "\n",
       "    .dataframe thead th {\n",
       "        text-align: right;\n",
       "    }\n",
       "</style>\n",
       "<table border=\"1\" class=\"dataframe\">\n",
       "  <thead>\n",
       "    <tr style=\"text-align: right;\">\n",
       "      <th></th>\n",
       "      <th>listing_id</th>\n",
       "      <th>price</th>\n",
       "      <th>nbhood_full</th>\n",
       "      <th>description</th>\n",
       "      <th>room_type</th>\n",
       "      <th>host_name</th>\n",
       "      <th>last_review</th>\n",
       "    </tr>\n",
       "  </thead>\n",
       "  <tbody>\n",
       "    <tr>\n",
       "      <th>0</th>\n",
       "      <td>2595</td>\n",
       "      <td>225 dollars</td>\n",
       "      <td>Manhattan, Midtown</td>\n",
       "      <td>Skylit Midtown Castle</td>\n",
       "      <td>Entire home/apt</td>\n",
       "      <td>Jennifer</td>\n",
       "      <td>May 21 2019</td>\n",
       "    </tr>\n",
       "    <tr>\n",
       "      <th>1</th>\n",
       "      <td>3831</td>\n",
       "      <td>89 dollars</td>\n",
       "      <td>Brooklyn, Clinton Hill</td>\n",
       "      <td>Cozy Entire Floor of Brownstone</td>\n",
       "      <td>Entire home/apt</td>\n",
       "      <td>LisaRoxanne</td>\n",
       "      <td>July 05 2019</td>\n",
       "    </tr>\n",
       "    <tr>\n",
       "      <th>2</th>\n",
       "      <td>5099</td>\n",
       "      <td>200 dollars</td>\n",
       "      <td>Manhattan, Murray Hill</td>\n",
       "      <td>Large Cozy 1 BR Apartment In Midtown East</td>\n",
       "      <td>Entire home/apt</td>\n",
       "      <td>Chris</td>\n",
       "      <td>June 22 2019</td>\n",
       "    </tr>\n",
       "    <tr>\n",
       "      <th>3</th>\n",
       "      <td>5178</td>\n",
       "      <td>79 dollars</td>\n",
       "      <td>Manhattan, Hell's Kitchen</td>\n",
       "      <td>Large Furnished Room Near B'way</td>\n",
       "      <td>private room</td>\n",
       "      <td>Shunichi</td>\n",
       "      <td>June 24 2019</td>\n",
       "    </tr>\n",
       "    <tr>\n",
       "      <th>4</th>\n",
       "      <td>5238</td>\n",
       "      <td>150 dollars</td>\n",
       "      <td>Manhattan, Chinatown</td>\n",
       "      <td>Cute &amp; Cozy Lower East Side 1 bdrm</td>\n",
       "      <td>Entire home/apt</td>\n",
       "      <td>Ben</td>\n",
       "      <td>June 09 2019</td>\n",
       "    </tr>\n",
       "    <tr>\n",
       "      <th>...</th>\n",
       "      <td>...</td>\n",
       "      <td>...</td>\n",
       "      <td>...</td>\n",
       "      <td>...</td>\n",
       "      <td>...</td>\n",
       "      <td>...</td>\n",
       "      <td>...</td>\n",
       "    </tr>\n",
       "    <tr>\n",
       "      <th>25204</th>\n",
       "      <td>36425863</td>\n",
       "      <td>129 dollars</td>\n",
       "      <td>Manhattan, Upper East Side</td>\n",
       "      <td>Lovely Privet Bedroom with Privet Restroom</td>\n",
       "      <td>PRIVATE ROOM</td>\n",
       "      <td>Rusaa</td>\n",
       "      <td>July 07 2019</td>\n",
       "    </tr>\n",
       "    <tr>\n",
       "      <th>25205</th>\n",
       "      <td>36427429</td>\n",
       "      <td>45 dollars</td>\n",
       "      <td>Queens, Flushing</td>\n",
       "      <td>No.2 with queen size bed</td>\n",
       "      <td>PRIVATE ROOM</td>\n",
       "      <td>H Ai</td>\n",
       "      <td>July 07 2019</td>\n",
       "    </tr>\n",
       "    <tr>\n",
       "      <th>25206</th>\n",
       "      <td>36438336</td>\n",
       "      <td>235 dollars</td>\n",
       "      <td>Staten Island, Great Kills</td>\n",
       "      <td>Seas The Moment</td>\n",
       "      <td>Private room</td>\n",
       "      <td>Ben</td>\n",
       "      <td>July 07 2019</td>\n",
       "    </tr>\n",
       "    <tr>\n",
       "      <th>25207</th>\n",
       "      <td>36442252</td>\n",
       "      <td>100 dollars</td>\n",
       "      <td>Bronx, Mott Haven</td>\n",
       "      <td>1B-1B apartment near by Metro</td>\n",
       "      <td>Entire home/apt</td>\n",
       "      <td>Blaine</td>\n",
       "      <td>July 07 2019</td>\n",
       "    </tr>\n",
       "    <tr>\n",
       "      <th>25208</th>\n",
       "      <td>36455809</td>\n",
       "      <td>30 dollars</td>\n",
       "      <td>Brooklyn, Bushwick</td>\n",
       "      <td>Cozy Private Room in Bushwick, Brooklyn</td>\n",
       "      <td>Private room</td>\n",
       "      <td>Christine</td>\n",
       "      <td>July 08 2019</td>\n",
       "    </tr>\n",
       "  </tbody>\n",
       "</table>\n",
       "<p>25209 rows × 7 columns</p>\n",
       "</div>"
      ],
      "text/plain": [
       "       listing_id        price                 nbhood_full  \\\n",
       "0            2595  225 dollars          Manhattan, Midtown   \n",
       "1            3831   89 dollars      Brooklyn, Clinton Hill   \n",
       "2            5099  200 dollars      Manhattan, Murray Hill   \n",
       "3            5178   79 dollars   Manhattan, Hell's Kitchen   \n",
       "4            5238  150 dollars        Manhattan, Chinatown   \n",
       "...           ...          ...                         ...   \n",
       "25204    36425863  129 dollars  Manhattan, Upper East Side   \n",
       "25205    36427429   45 dollars            Queens, Flushing   \n",
       "25206    36438336  235 dollars  Staten Island, Great Kills   \n",
       "25207    36442252  100 dollars           Bronx, Mott Haven   \n",
       "25208    36455809   30 dollars          Brooklyn, Bushwick   \n",
       "\n",
       "                                      description        room_type  \\\n",
       "0                           Skylit Midtown Castle  Entire home/apt   \n",
       "1                 Cozy Entire Floor of Brownstone  Entire home/apt   \n",
       "2       Large Cozy 1 BR Apartment In Midtown East  Entire home/apt   \n",
       "3                 Large Furnished Room Near B'way     private room   \n",
       "4              Cute & Cozy Lower East Side 1 bdrm  Entire home/apt   \n",
       "...                                           ...              ...   \n",
       "25204  Lovely Privet Bedroom with Privet Restroom     PRIVATE ROOM   \n",
       "25205                    No.2 with queen size bed     PRIVATE ROOM   \n",
       "25206                             Seas The Moment     Private room   \n",
       "25207               1B-1B apartment near by Metro  Entire home/apt   \n",
       "25208     Cozy Private Room in Bushwick, Brooklyn     Private room   \n",
       "\n",
       "         host_name   last_review  \n",
       "0         Jennifer   May 21 2019  \n",
       "1      LisaRoxanne  July 05 2019  \n",
       "2            Chris  June 22 2019  \n",
       "3         Shunichi  June 24 2019  \n",
       "4              Ben  June 09 2019  \n",
       "...            ...           ...  \n",
       "25204        Rusaa  July 07 2019  \n",
       "25205         H Ai  July 07 2019  \n",
       "25206          Ben  July 07 2019  \n",
       "25207       Blaine  July 07 2019  \n",
       "25208    Christine  July 08 2019  \n",
       "\n",
       "[25209 rows x 7 columns]"
      ]
     },
     "execution_count": 26,
     "metadata": {},
     "output_type": "execute_result"
    }
   ],
   "source": [
    "merged_df"
   ]
  },
  {
   "cell_type": "code",
   "execution_count": 27,
   "id": "3420f045",
   "metadata": {},
   "outputs": [
    {
     "name": "stdout",
     "output_type": "stream",
     "text": [
      "<class 'pandas.core.frame.DataFrame'>\n",
      "Int64Index: 25209 entries, 0 to 25208\n",
      "Data columns (total 7 columns):\n",
      " #   Column       Non-Null Count  Dtype \n",
      "---  ------       --------------  ----- \n",
      " 0   listing_id   25209 non-null  int64 \n",
      " 1   price        25209 non-null  object\n",
      " 2   nbhood_full  25209 non-null  object\n",
      " 3   description  25199 non-null  object\n",
      " 4   room_type    25209 non-null  object\n",
      " 5   host_name    25201 non-null  object\n",
      " 6   last_review  25209 non-null  object\n",
      "dtypes: int64(1), object(6)\n",
      "memory usage: 1.5+ MB\n"
     ]
    }
   ],
   "source": [
    "merged_df.info()"
   ]
  },
  {
   "cell_type": "code",
   "execution_count": 28,
   "id": "e34569dd",
   "metadata": {},
   "outputs": [
    {
     "data": {
      "text/plain": [
       "listing_id      int64\n",
       "price          object\n",
       "nbhood_full    object\n",
       "description    object\n",
       "room_type      object\n",
       "host_name      object\n",
       "last_review    object\n",
       "dtype: object"
      ]
     },
     "execution_count": 28,
     "metadata": {},
     "output_type": "execute_result"
    }
   ],
   "source": [
    "merged_df.dtypes"
   ]
  },
  {
   "cell_type": "code",
   "execution_count": 29,
   "id": "691a1cc3",
   "metadata": {},
   "outputs": [
    {
     "data": {
      "text/html": [
       "<div>\n",
       "<style scoped>\n",
       "    .dataframe tbody tr th:only-of-type {\n",
       "        vertical-align: middle;\n",
       "    }\n",
       "\n",
       "    .dataframe tbody tr th {\n",
       "        vertical-align: top;\n",
       "    }\n",
       "\n",
       "    .dataframe thead th {\n",
       "        text-align: right;\n",
       "    }\n",
       "</style>\n",
       "<table border=\"1\" class=\"dataframe\">\n",
       "  <thead>\n",
       "    <tr style=\"text-align: right;\">\n",
       "      <th></th>\n",
       "      <th>listing_id</th>\n",
       "    </tr>\n",
       "  </thead>\n",
       "  <tbody>\n",
       "    <tr>\n",
       "      <th>count</th>\n",
       "      <td>2.520900e+04</td>\n",
       "    </tr>\n",
       "    <tr>\n",
       "      <th>mean</th>\n",
       "      <td>2.068922e+07</td>\n",
       "    </tr>\n",
       "    <tr>\n",
       "      <th>std</th>\n",
       "      <td>1.102928e+07</td>\n",
       "    </tr>\n",
       "    <tr>\n",
       "      <th>min</th>\n",
       "      <td>2.595000e+03</td>\n",
       "    </tr>\n",
       "    <tr>\n",
       "      <th>25%</th>\n",
       "      <td>1.202273e+07</td>\n",
       "    </tr>\n",
       "    <tr>\n",
       "      <th>50%</th>\n",
       "      <td>2.234391e+07</td>\n",
       "    </tr>\n",
       "    <tr>\n",
       "      <th>75%</th>\n",
       "      <td>3.037669e+07</td>\n",
       "    </tr>\n",
       "    <tr>\n",
       "      <th>max</th>\n",
       "      <td>3.645581e+07</td>\n",
       "    </tr>\n",
       "  </tbody>\n",
       "</table>\n",
       "</div>"
      ],
      "text/plain": [
       "         listing_id\n",
       "count  2.520900e+04\n",
       "mean   2.068922e+07\n",
       "std    1.102928e+07\n",
       "min    2.595000e+03\n",
       "25%    1.202273e+07\n",
       "50%    2.234391e+07\n",
       "75%    3.037669e+07\n",
       "max    3.645581e+07"
      ]
     },
     "execution_count": 29,
     "metadata": {},
     "output_type": "execute_result"
    }
   ],
   "source": [
    "merged_df.describe()"
   ]
  },
  {
   "cell_type": "code",
   "execution_count": 31,
   "id": "29134b2c",
   "metadata": {},
   "outputs": [
    {
     "data": {
      "text/plain": [
       "listing_id      0\n",
       "price           0\n",
       "nbhood_full     0\n",
       "description    10\n",
       "room_type       0\n",
       "host_name       8\n",
       "last_review     0\n",
       "dtype: int64"
      ]
     },
     "execution_count": 31,
     "metadata": {},
     "output_type": "execute_result"
    }
   ],
   "source": [
    "merged_df.isna().sum()"
   ]
  },
  {
   "cell_type": "code",
   "execution_count": 33,
   "id": "f79593c8",
   "metadata": {},
   "outputs": [
    {
     "data": {
      "text/html": [
       "<div>\n",
       "<style scoped>\n",
       "    .dataframe tbody tr th:only-of-type {\n",
       "        vertical-align: middle;\n",
       "    }\n",
       "\n",
       "    .dataframe tbody tr th {\n",
       "        vertical-align: top;\n",
       "    }\n",
       "\n",
       "    .dataframe thead th {\n",
       "        text-align: right;\n",
       "    }\n",
       "</style>\n",
       "<table border=\"1\" class=\"dataframe\">\n",
       "  <thead>\n",
       "    <tr style=\"text-align: right;\">\n",
       "      <th></th>\n",
       "      <th>listing_id</th>\n",
       "      <th>price</th>\n",
       "      <th>nbhood_full</th>\n",
       "      <th>description</th>\n",
       "      <th>room_type</th>\n",
       "      <th>host_name</th>\n",
       "      <th>last_review</th>\n",
       "    </tr>\n",
       "  </thead>\n",
       "  <tbody>\n",
       "    <tr>\n",
       "      <th>25204</th>\n",
       "      <td>False</td>\n",
       "      <td>False</td>\n",
       "      <td>False</td>\n",
       "      <td>False</td>\n",
       "      <td>False</td>\n",
       "      <td>False</td>\n",
       "      <td>False</td>\n",
       "    </tr>\n",
       "    <tr>\n",
       "      <th>25205</th>\n",
       "      <td>False</td>\n",
       "      <td>False</td>\n",
       "      <td>False</td>\n",
       "      <td>False</td>\n",
       "      <td>False</td>\n",
       "      <td>False</td>\n",
       "      <td>False</td>\n",
       "    </tr>\n",
       "    <tr>\n",
       "      <th>25206</th>\n",
       "      <td>False</td>\n",
       "      <td>False</td>\n",
       "      <td>False</td>\n",
       "      <td>False</td>\n",
       "      <td>False</td>\n",
       "      <td>False</td>\n",
       "      <td>False</td>\n",
       "    </tr>\n",
       "    <tr>\n",
       "      <th>25207</th>\n",
       "      <td>False</td>\n",
       "      <td>False</td>\n",
       "      <td>False</td>\n",
       "      <td>False</td>\n",
       "      <td>False</td>\n",
       "      <td>False</td>\n",
       "      <td>False</td>\n",
       "    </tr>\n",
       "    <tr>\n",
       "      <th>25208</th>\n",
       "      <td>False</td>\n",
       "      <td>False</td>\n",
       "      <td>False</td>\n",
       "      <td>False</td>\n",
       "      <td>False</td>\n",
       "      <td>False</td>\n",
       "      <td>False</td>\n",
       "    </tr>\n",
       "  </tbody>\n",
       "</table>\n",
       "</div>"
      ],
      "text/plain": [
       "       listing_id  price  nbhood_full  description  room_type  host_name  \\\n",
       "25204       False  False        False        False      False      False   \n",
       "25205       False  False        False        False      False      False   \n",
       "25206       False  False        False        False      False      False   \n",
       "25207       False  False        False        False      False      False   \n",
       "25208       False  False        False        False      False      False   \n",
       "\n",
       "       last_review  \n",
       "25204        False  \n",
       "25205        False  \n",
       "25206        False  \n",
       "25207        False  \n",
       "25208        False  "
      ]
     },
     "execution_count": 33,
     "metadata": {},
     "output_type": "execute_result"
    }
   ],
   "source": [
    "merged_df.isna().tail()"
   ]
  },
  {
   "cell_type": "code",
   "execution_count": 35,
   "id": "b79689f9",
   "metadata": {},
   "outputs": [],
   "source": [
    "#Removing dollars from price column\n",
    "merged_df[\"price\"]=merged_df[\"price\"].str.strip(\"dollars\")"
   ]
  },
  {
   "cell_type": "code",
   "execution_count": 37,
   "id": "f78e9587",
   "metadata": {},
   "outputs": [],
   "source": [
    "#changing Price data type to int\n",
    "merged_df[\"price\"]=merged_df[\"price\"].astype(int)"
   ]
  },
  {
   "cell_type": "code",
   "execution_count": 38,
   "id": "f0f2b466",
   "metadata": {},
   "outputs": [],
   "source": [
    "#Verify if column is an integer\n",
    "assert merged_df[\"price\"].dtype==\"int\""
   ]
  },
  {
   "cell_type": "code",
   "execution_count": 41,
   "id": "0ddbffdc",
   "metadata": {},
   "outputs": [],
   "source": [
    "#Changing room type to category data type\n",
    "merged_df[\"room_type\"]=merged_df[\"room_type\"].astype(\"category\")"
   ]
  },
  {
   "cell_type": "code",
   "execution_count": 46,
   "id": "3e517ea8",
   "metadata": {},
   "outputs": [
    {
     "data": {
      "text/plain": [
       "Entire home/apt    8458\n",
       "Private room       7241\n",
       "entire home/apt    2665\n",
       "private room       2248\n",
       "ENTIRE HOME/APT    2143\n",
       "PRIVATE ROOM       1867\n",
       "Shared room         380\n",
       "shared room         110\n",
       "SHARED ROOM          97\n",
       "Name: room_type, dtype: int64"
      ]
     },
     "execution_count": 46,
     "metadata": {},
     "output_type": "execute_result"
    }
   ],
   "source": [
    "merged_df[\"room_type\"].value_counts()"
   ]
  },
  {
   "cell_type": "code",
   "execution_count": 50,
   "id": "1f81f01f",
   "metadata": {},
   "outputs": [],
   "source": [
    "#Capitalising category Values to ensure consistency\n",
    "merged_df[\"room_type\"]=merged_df[\"room_type\"].str.upper()"
   ]
  },
  {
   "cell_type": "code",
   "execution_count": 49,
   "id": "4968ef03",
   "metadata": {},
   "outputs": [
    {
     "data": {
      "text/plain": [
       "ENTIRE HOME/APT    13266\n",
       "PRIVATE ROOM       11356\n",
       "SHARED ROOM          587\n",
       "Name: room_type, dtype: int64"
      ]
     },
     "execution_count": 49,
     "metadata": {},
     "output_type": "execute_result"
    }
   ],
   "source": [
    "merged_df[\"room_type\"].value_counts()"
   ]
  },
  {
   "cell_type": "code",
   "execution_count": 54,
   "id": "b79f93ac",
   "metadata": {},
   "outputs": [],
   "source": [
    "total_privateroom = 11356"
   ]
  },
  {
   "cell_type": "code",
   "execution_count": 52,
   "id": "1c3efd25",
   "metadata": {},
   "outputs": [],
   "source": [
    "#converting last Review t date\n",
    "merged_df[\"last_review\"]=pd.to_datetime(merged_df[\"last_review\"])"
   ]
  },
  {
   "cell_type": "code",
   "execution_count": 53,
   "id": "a5f5b80f",
   "metadata": {},
   "outputs": [
    {
     "data": {
      "text/plain": [
       "listing_id              int64\n",
       "price                   int32\n",
       "nbhood_full            object\n",
       "description            object\n",
       "room_type              object\n",
       "host_name              object\n",
       "last_review    datetime64[ns]\n",
       "dtype: object"
      ]
     },
     "execution_count": 53,
     "metadata": {},
     "output_type": "execute_result"
    }
   ],
   "source": [
    "merged_df.dtypes\n"
   ]
  },
  {
   "cell_type": "code",
   "execution_count": 62,
   "id": "cd899154",
   "metadata": {},
   "outputs": [
    {
     "name": "stdout",
     "output_type": "stream",
     "text": [
      "2024-05-07\n"
     ]
    }
   ],
   "source": [
    "to_date=dt.date.today()\n",
    "print(to_date)"
   ]
  },
  {
   "cell_type": "code",
   "execution_count": 68,
   "id": "97aa9baf",
   "metadata": {},
   "outputs": [
    {
     "name": "stdout",
     "output_type": "stream",
     "text": [
      "the earliest review date is:2019-01-01 00:00:00\n",
      "the latest review date is:2019-07-09 00:00:00\n"
     ]
    }
   ],
   "source": [
    "#finding the earliest and latest review dates\n",
    "earliest_review_date = merged_df['last_review'].min()\n",
    "latest_review_date = merged_df['last_review'].max()\n",
    "print(f'the earliest review date is:{earliest_review_date}')\n",
    "print(f'the latest review date is:{latest_review_date}')"
   ]
  },
  {
   "cell_type": "code",
   "execution_count": 74,
   "id": "7d34e7c6",
   "metadata": {},
   "outputs": [
    {
     "name": "stdout",
     "output_type": "stream",
     "text": [
      "the average price is:141.78\n"
     ]
    }
   ],
   "source": [
    "#finding Average Price\n",
    "Avg_price= round(merged_df['price'].mean(),2)\n",
    "print(f'the average price is:{Avg_price}')"
   ]
  },
  {
   "cell_type": "code",
   "execution_count": 75,
   "id": "2132cf10",
   "metadata": {},
   "outputs": [],
   "source": [
    "#first_reviewed, last_reviewed, nb_private_rooms,  avg_price\n",
    "dict={\"first_reviewed\":\"2019-01-01\",\"last_reviewed\":\"2019-07-09\",\"nb_private_rooms\":11356,\"avg_price\":141.78}"
   ]
  },
  {
   "cell_type": "code",
   "execution_count": 80,
   "id": "d94c2e6e",
   "metadata": {},
   "outputs": [],
   "source": [
    "# Convert the dictionary to a DataFrame\n",
    "df = pd.DataFrame.from_dict(dict, orient='index')\n",
    "\n",
    "# Transpose the DataFrame to have keys as columns and values as rows\n",
    "df = df.T"
   ]
  },
  {
   "cell_type": "code",
   "execution_count": 81,
   "id": "d665bf0d",
   "metadata": {},
   "outputs": [
    {
     "data": {
      "text/html": [
       "<div>\n",
       "<style scoped>\n",
       "    .dataframe tbody tr th:only-of-type {\n",
       "        vertical-align: middle;\n",
       "    }\n",
       "\n",
       "    .dataframe tbody tr th {\n",
       "        vertical-align: top;\n",
       "    }\n",
       "\n",
       "    .dataframe thead th {\n",
       "        text-align: right;\n",
       "    }\n",
       "</style>\n",
       "<table border=\"1\" class=\"dataframe\">\n",
       "  <thead>\n",
       "    <tr style=\"text-align: right;\">\n",
       "      <th></th>\n",
       "      <th>first_reviewed</th>\n",
       "      <th>last_reviewed</th>\n",
       "      <th>nb_private_rooms</th>\n",
       "      <th>avg_price</th>\n",
       "    </tr>\n",
       "  </thead>\n",
       "  <tbody>\n",
       "    <tr>\n",
       "      <th>0</th>\n",
       "      <td>2019-01-01</td>\n",
       "      <td>2019-07-09</td>\n",
       "      <td>11356</td>\n",
       "      <td>141.78</td>\n",
       "    </tr>\n",
       "  </tbody>\n",
       "</table>\n",
       "</div>"
      ],
      "text/plain": [
       "  first_reviewed last_reviewed nb_private_rooms avg_price\n",
       "0     2019-01-01    2019-07-09            11356    141.78"
      ]
     },
     "execution_count": 81,
     "metadata": {},
     "output_type": "execute_result"
    }
   ],
   "source": [
    "df"
   ]
  },
  {
   "cell_type": "code",
   "execution_count": null,
   "id": "029ca87e",
   "metadata": {},
   "outputs": [],
   "source": []
  }
 ],
 "metadata": {
  "kernelspec": {
   "display_name": "Python 3 (ipykernel)",
   "language": "python",
   "name": "python3"
  },
  "language_info": {
   "codemirror_mode": {
    "name": "ipython",
    "version": 3
   },
   "file_extension": ".py",
   "mimetype": "text/x-python",
   "name": "python",
   "nbconvert_exporter": "python",
   "pygments_lexer": "ipython3",
   "version": "3.10.9"
  }
 },
 "nbformat": 4,
 "nbformat_minor": 5
}
