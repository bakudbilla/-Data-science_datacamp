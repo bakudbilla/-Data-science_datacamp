{
  "cells": [
    {
      "cell_type": "markdown",
      "metadata": {
        "id": "view-in-github",
        "colab_type": "text"
      },
      "source": [
        "<a href=\"https://colab.research.google.com/github/bakudbilla/-Data-science_datacamp/blob/master/Calculus_Assignment_%5B7%5D.ipynb\" target=\"_parent\"><img src=\"https://colab.research.google.com/assets/colab-badge.svg\" alt=\"Open In Colab\"/></a>"
      ]
    },
    {
      "cell_type": "markdown",
      "metadata": {
        "id": "ujuLMxSvoXbg"
      },
      "source": [
        "# Task 1: Write a dynamic function to find the derivative of any function f(x)"
      ]
    },
    {
      "cell_type": "code",
      "execution_count": null,
      "metadata": {
        "colab": {
          "base_uri": "https://localhost:8080/"
        },
        "id": "wGCnpzs9M4Fd",
        "outputId": "55b76313-eaec-4ebe-92f8-70f810b43377"
      },
      "outputs": [
        {
          "name": "stdout",
          "output_type": "stream",
          "text": [
            "3*x**2 + 3\n"
          ]
        }
      ],
      "source": [
        "#TO DO: Create a function that does a derivative for any function\n",
        "import sympy as sp\n",
        "x = sp.Symbol('x')\n",
        "\n",
        "# Test function\n",
        "def f(x):\n",
        "  return x**3 + 3*x + 5\n",
        "\n",
        "func = f(x)\n",
        "\n",
        "def dy_dx(f):\n",
        "  #find the derivative of f(x)\n",
        "  f_prime = func.diff(x)\n",
        "  return f_prime\n",
        "\n",
        "print(dy_dx(func))"
      ]
    },
    {
      "cell_type": "markdown",
      "metadata": {
        "id": "tRiw95LZoeVq"
      },
      "source": [
        "# Task 2: Test the derivative function written with an equation of your choice\n",
        "*NB: Must have atleast 2 minimas and atleast 2 maximas*"
      ]
    },
    {
      "cell_type": "code",
      "execution_count": null,
      "metadata": {
        "colab": {
          "base_uri": "https://localhost:8080/"
        },
        "id": "SLFq1uf4NMy_",
        "outputId": "92e398dc-fe42-4546-e3bd-e1c333216a10"
      },
      "outputs": [
        {
          "name": "stdout",
          "output_type": "stream",
          "text": [
            "-4*x**3 - 6*x**2 + 8*x + 2\n"
          ]
        }
      ],
      "source": [
        "import sympy as sp\n",
        "x = sp.Symbol('x')\n",
        "\n",
        "def f(x):\n",
        "  return -x**4 -2*x**3 + 4*x**2 + 2*x + 1\n",
        "\n",
        "func = f(x)\n",
        "\n",
        "def dy_dx(f):\n",
        "  f_prime = func.diff(x)\n",
        "  return f_prime\n",
        "\n",
        "print(dy_dx(f))"
      ]
    },
    {
      "cell_type": "markdown",
      "metadata": {
        "id": "fvDN-PJQopAQ"
      },
      "source": [
        "#Task 3: Plot a graph of the Equation must have 4 points (2 minimas and 2 maximas)"
      ]
    },
    {
      "cell_type": "code",
      "execution_count": null,
      "metadata": {
        "colab": {
          "base_uri": "https://localhost:8080/",
          "height": 472
        },
        "id": "JtB6-187NV_R",
        "outputId": "0f67ed34-e8c5-45d1-c83f-acbcb466f44c"
      },
      "outputs": [
        {
          "data": {
            "image/png": "[encoded data removed]",
            "text/plain": [
              "<Figure size 640x480 with 1 Axes>"
            ]
          },
          "metadata": {},
          "output_type": "display_data"
        }
      ],
      "source": [
        "import numpy as np\n",
        "import matplotlib.pyplot as plt\n",
        "\n",
        "# Define the function f(x) numerically\n",
        "def f(x):\n",
        "    return -x**4 -2*x**3 + 4*x**2 + 2*x + 1\n",
        "\n",
        "# Generate x and y values\n",
        "x_vals = np.linspace(-3, 3, 400)\n",
        "y_vals = f(x_vals)\n",
        "\n",
        "# Plot the function\n",
        "plt.plot(x_vals, y_vals, label='f(x)', color='b')\n",
        "\n",
        "# Add labels and show the plot\n",
        "plt.title(\" PLOT OF THE FUNCTION f(x) = -x**4 -2*x**3 + 4*x**2 + 2*x + 1\")\n",
        "plt.xlabel(\"x\")\n",
        "plt.ylabel(\"f(x)\")\n",
        "plt.legend()\n",
        "plt.grid(True)\n",
        "plt.show()"
      ]
    },
    {
      "cell_type": "markdown",
      "metadata": {
        "id": "bwZIpdMYouWY"
      },
      "source": [
        "# Task 4: Create separate array of Minimas and maximas"
      ]
    },
    {
      "cell_type": "code",
      "execution_count": null,
      "metadata": {
        "colab": {
          "base_uri": "https://localhost:8080/"
        },
        "id": "0ytRvgytN3st",
        "outputId": "27e650f6-48e6-4ccc-a16c-d9ba5b3998bd"
      },
      "outputs": [
        {
          "name": "stdout",
          "output_type": "stream",
          "text": [
            "the array of minimas [1, -5/4 - sqrt(17)/4] and the array of maximas is [-5/4 + sqrt(17)/4]\n"
          ]
        }
      ],
      "source": [
        "import sympy as sp\n",
        "x= sp.Symbol('x')\n",
        "f= -x**4 -2*x**3 + 4*x**2 + 2*x + 1\n",
        "\n",
        "f_prime=sp.diff(f,x)\n",
        "critical_points = sp.solve(f_prime,x)\n",
        "\n",
        "f_double_prime = sp.diff(f_prime,x)\n",
        "\n",
        "arr_minimas = []\n",
        "arr_maximas = []\n",
        "\n",
        "for point in critical_points:\n",
        "  second_deriv_value=f_double_prime.subs(x,point)\n",
        "  if second_deriv_value>0:\n",
        "    arr_maximas.append(point)\n",
        "  elif second_deriv_value<0:\n",
        "    arr_minimas.append(point)\n",
        "\n",
        "print(f'the array of minimas {arr_minimas} and the array of maximas is {arr_maximas}')\n",
        "\n"
      ]
    },
    {
      "cell_type": "markdown",
      "metadata": {
        "id": "hMyJ1weqo0ZR"
      },
      "source": [
        "#Finally, What is the global Minima and the Global maxima _ Plot this so that I can see"
      ]
    },
    {
      "cell_type": "code",
      "execution_count": 11,
      "metadata": {
        "colab": {
          "base_uri": "https://localhost:8080/"
        },
        "id": "vaWQwmEHiRe8",
        "outputId": "d9d67ad1-484b-4974-c818-262a8f722977"
      },
      "outputs": [
        {
          "output_type": "stream",
          "name": "stdout",
          "text": [
            "The global maxima is (-5/4 - sqrt(17)/4, -(-5/4 - sqrt(17)/4)**4 - sqrt(17)/2 - 3/2 + 4*(-5/4 - sqrt(17)/4)**2 - 2*(-5/4 - sqrt(17)/4)**3)\n",
            "The global minima is (-5/4 + sqrt(17)/4, -3/2 - (-5/4 + sqrt(17)/4)**4 - 2*(-5/4 + sqrt(17)/4)**3 + 4*(-5/4 + sqrt(17)/4)**2 + sqrt(17)/2)\n"
          ]
        }
      ],
      "source": [
        "\n",
        "Global_maxima=(None,None)\n",
        "Global_minima=(None,None)\n",
        "\n",
        "\n",
        "for point in critical_points:\n",
        "  second_deriv_value= f_double_prime.subs(x,point)\n",
        "  function_value=f.subs(x,point)\n",
        "\n",
        "  if second_deriv_value>0:\n",
        "    arr_minimas.append(point)\n",
        "\n",
        "    #finding global minima\n",
        "    if Global_minima[1] is None or function_value<Global_minima[1]:\n",
        "      Global_minima=(point,function_value)\n",
        "  elif second_deriv_value<0:\n",
        "    arr_maximas.append(point)\n",
        "\n",
        "    #finding global maxima\n",
        "    if Global_maxima[1] is None or function_value>Global_maxima[1]:\n",
        "      Global_maxima=(point,function_value)\n",
        "\n",
        "\n",
        "print(f'The global maxima is {Global_maxima}')\n",
        "\n",
        "print(f'The global minima is {Global_minima}')"
      ]
    },
    {
      "cell_type": "markdown",
      "metadata": {
        "id": "cvvdb2dh5DzV"
      },
      "source": [
        "# Task 5: Finding the Area under the curve"
      ]
    },
    {
      "cell_type": "code",
      "execution_count": null,
      "metadata": {
        "id": "grpVdMGg5PSR",
        "colab": {
          "base_uri": "https://localhost:8080/"
        },
        "outputId": "72f116e4-51bb-4095-9869-bc1e831f175e"
      },
      "outputs": [
        {
          "output_type": "stream",
          "name": "stdout",
          "text": [
            "The area under the curve is: -96/5\n"
          ]
        }
      ],
      "source": [
        "x = sp.symbols('x')\n",
        "\n",
        "f_expr = -x**4 -2*x**3 + 4*x**2 + 2*x + 1\n",
        "\n",
        "a = -3\n",
        "b = 3\n",
        "\n",
        "area_under_curve = sp.integrate(f_expr, (x, a, b))\n",
        "\n",
        "print(f\"The area under the curve is: {area_under_curve}\")"
      ]
    },
    {
      "cell_type": "markdown",
      "metadata": {
        "id": "W9qLLf9Ei8G7"
      },
      "source": [
        "# Things trhat may help\n",
        "\n",
        "We came up with a functon\n",
        "\n",
        "$$\n",
        "f(x) = 4x^2 + x^-1\n",
        "$$\n",
        "\n",
        "So we create a fucntion in python\n",
        "\n",
        "\n",
        "\n",
        "```\n",
        "def f(x):\n",
        "  #see our code below\n",
        "```\n",
        "\n"
      ]
    },
    {
      "cell_type": "code",
      "execution_count": null,
      "metadata": {
        "id": "D8SOdxIBc1H9"
      },
      "outputs": [],
      "source": [
        "#This is an Example of a quadratic function\n",
        "def f(x):\n",
        "   return (4 * (x** 2)) + (x ** -1)"
      ]
    },
    {
      "cell_type": "markdown",
      "metadata": {
        "id": "YdEAhWv2i1wU"
      },
      "source": [
        "We manuall calculated the derivative  and got that\n",
        "$$\n",
        "df(x)/dx = 8x^1 + x^-2\n",
        "$$\n",
        "\n",
        "Using the formula above we find points where the derivative is 0\n",
        "\n",
        "the values are:\n",
        "\n",
        "$$\n",
        "x1 = 0.5, x1 = - 0.5,x1 = 0,\n",
        "$$\n",
        "\n",
        "If you replace this in our original formula\n",
        "\n",
        "$$\n",
        "f(0.5) = 4(0.5)^2 + (0.5^-1 = -1.0\n",
        "$$\n",
        "$$\n",
        "f(0) = 4x^2 + x^-1 = No solution\n",
        "$$\n",
        "$$\n",
        "f(-0.5) = 4x^2 + x^-1 = 1\n",
        "$$\n",
        "\n",
        "Meaning our curve is flat at point $$(0.5,1) $$ and at $$ (-0.5,1)$$\n",
        "\n",
        "Proof Pending........\n",
        "\n",
        "Here is how we tried with code and got some errors"
      ]
    },
    {
      "cell_type": "code",
      "execution_count": null,
      "metadata": {
        "colab": {
          "background_save": true,
          "base_uri": "https://localhost:8080/",
          "height": 331
        },
        "id": "BSsC7fL8fX-7",
        "outputId": "08dc64a0-3868-48bd-9fc9-ee5e47ad94de"
      },
      "outputs": [
        {
          "name": "stdout",
          "output_type": "stream",
          "text": [
            "1.1875\n"
          ]
        },
        {
          "data": {
            "text/plain": [
              "(0.5, 3)"
            ]
          },
          "execution_count": 19,
          "metadata": {},
          "output_type": "execute_result"
        }
      ],
      "source": [
        "\n",
        "\n",
        "x1 = 0.5\n",
        "x2 = -0.5\n",
        "x3 = 0\n",
        "\n",
        "y1 = f(x1)\n",
        "y2 = f(x2)\n",
        "y3 = f(x3)\n",
        "\n",
        "print(y2)\n",
        "(0.5,3)\n"
      ]
    },
    {
      "cell_type": "markdown",
      "metadata": {
        "id": "Fk6f0P_Om4VE"
      },
      "source": [
        "# **You can now do the Rest.All the Best ........**"
      ]
    }
  ],
  "metadata": {
    "colab": {
      "provenance": [],
      "include_colab_link": true
    },
    "kernelspec": {
      "display_name": "Python 3",
      "name": "python3"
    },
    "language_info": {
      "name": "python"
    }
  },
  "nbformat": 4,
  "nbformat_minor": 0
}