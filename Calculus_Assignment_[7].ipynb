{
  "cells": [
    {
      "cell_type": "markdown",
      "metadata": {
        "id": "view-in-github",
        "colab_type": "text"
      },
      "source": [
        "<a href=\"https://colab.research.google.com/github/bakudbilla/-Data-science_datacamp/blob/master/Calculus_Assignment_%5B7%5D.ipynb\" target=\"_parent\"><img src=\"https://colab.research.google.com/assets/colab-badge.svg\" alt=\"Open In Colab\"/></a>"
      ]
    },
    {
      "cell_type": "markdown",
      "metadata": {
        "id": "ujuLMxSvoXbg"
      },
      "source": [
        "# Task 1: Write a dynamic function to find the derivative of any function f(x)"
      ]
    },
    {
      "cell_type": "code",
      "source": [
        "import sympy as sp\n",
        "import numpy as np\n",
        "import matplotlib.pyplot as plt"
      ],
      "metadata": {
        "id": "eJjdBi0CgUU4"
      },
      "execution_count": null,
      "outputs": []
    },
    {
      "cell_type": "code",
      "execution_count": null,
      "metadata": {
        "id": "wGCnpzs9M4Fd"
      },
      "outputs": [],
      "source": [
        "#TO DO: Create a function that does a derivative for any function\n",
        "\n",
        "x = sp.Symbol('x')\n",
        "\n",
        "def dy_dx(f):\n",
        "  '''\n",
        "  Finds the derivative of f(x) using sympy's diff module\n",
        "  '''\n",
        "  return sp.diff(f,x)"
      ]
    },
    {
      "cell_type": "markdown",
      "metadata": {
        "id": "tRiw95LZoeVq"
      },
      "source": [
        "# Task 2: Test the derivative function written with an equation of your choice\n",
        "*NB: Must have atleast 2 minimas and atleast 2 maximas*"
      ]
    },
    {
      "cell_type": "code",
      "execution_count": null,
      "metadata": {
        "colab": {
          "base_uri": "https://localhost:8080/"
        },
        "id": "SLFq1uf4NMy_",
        "outputId": "8689d72e-a2a7-443d-f4a8-b206d3d933c1"
      },
      "outputs": [
        {
          "output_type": "stream",
          "name": "stdout",
          "text": [
            "-4*x**3 - 6*x**2 + 8*x + 2\n"
          ]
        }
      ],
      "source": [
        "x = sp.Symbol('x')\n",
        "\n",
        "def f(x):\n",
        "  '''\n",
        "  Define the function f(x) numerically\n",
        "  '''\n",
        "  return -x**4 -2*x**3 + 4*x**2 + 2*x + 1\n",
        "\n",
        "f = f(x)\n",
        "\n",
        "def dy_dx(f):\n",
        "  '''\n",
        "  Finds the derivative of f(x) using sympy's diff module\n",
        "  '''\n",
        "  return sp.diff(f, x)\n",
        "\n",
        "print(dy_dx(f))"
      ]
    },
    {
      "cell_type": "markdown",
      "metadata": {
        "id": "fvDN-PJQopAQ"
      },
      "source": [
        "#Task 3: Plot a graph of the Equation must have 4 points (2 minimas and 2 maximas)"
      ]
    },
    {
      "cell_type": "code",
      "execution_count": null,
      "metadata": {
        "colab": {
          "base_uri": "https://localhost:8080/"
        },
        "id": "JtB6-187NV_R",
        "outputId": "54625371-8b09-4f63-ddc7-359991403bcf"
      },
      "outputs": [
        {
          "output_type": "display_data",
          "data": {
            "text/plain": [
              "<Figure size 640x480 with 1 Axes>"
            ],
            "image/png": "[encoded data removed]"
          },
          "metadata": {}
        }
      ],
      "source": [
        "# Define the function f(x) numerically\n",
        "def f(x):\n",
        "    '''\n",
        "    Define the function f(x) numerically\n",
        "    '''\n",
        "    return -x**4 -2*x**3 + 4*x**2 + 2*x + 1\n",
        "\n",
        "# Generate x and y values\n",
        "x_vals = np.linspace(-3, 3, 400)\n",
        "y_vals = f(x_vals)\n",
        "\n",
        "# Plot the function\n",
        "plt.plot(x_vals, y_vals, label='f(x)', color='b')\n",
        "\n",
        "# Add labels and show the plot\n",
        "plt.title(\" PLOT OF THE FUNCTION f(x) = -x**4 -2*x**3 + 4*x**2 + 2*x + 1\")\n",
        "plt.xlabel(\"x\")\n",
        "plt.ylabel(\"f(x)\")\n",
        "plt.legend()\n",
        "plt.grid(True)\n",
        "plt.show()"
      ]
    },
    {
      "cell_type": "markdown",
      "metadata": {
        "id": "bwZIpdMYouWY"
      },
      "source": [
        "# Task 4: Create separate array of Minimas and maximas"
      ]
    },
    {
      "cell_type": "code",
      "execution_count": null,
      "metadata": {
        "colab": {
          "base_uri": "https://localhost:8080/"
        },
        "id": "0ytRvgytN3st",
        "outputId": "b48068f3-9313-4926-a76e-c46b76cd10fc"
      },
      "outputs": [
        {
          "output_type": "stream",
          "name": "stdout",
          "text": [
            "the array of minimas [1, -5/4 - sqrt(17)/4] and the array of maximas is [-5/4 + sqrt(17)/4]\n"
          ]
        }
      ],
      "source": [
        "\"\"\"\n",
        "Creating Separate arrays of Minimas and Maximas\n",
        "\"\"\"\n",
        "#defining the variable\n",
        "x= sp.Symbol('x')\n",
        "\n",
        "#declaring the function using sympy\n",
        "f= -x**4 -2*x**3 + 4*x**2 + 2*x + 1\n",
        "#finding the derative of the function\n",
        "f_prime=sp.diff(f,x)\n",
        "\n",
        "#solving for critical points\n",
        "critical_points = sp.solve(f_prime,x)\n",
        "\n",
        "#finding the second derative of the function\n",
        "f_double_prime = sp.diff(f_prime,x)\n",
        "\n",
        "#variables to store maxima and minima arrays\n",
        "arr_minimas = []\n",
        "arr_maximas = []\n",
        "\n",
        "#testing each critical point\n",
        "for point in critical_points:\n",
        "  second_deriv_value=f_double_prime.subs(x,point)\n",
        "  if second_deriv_value>0:\n",
        "    arr_maximas.append(point)\n",
        "  elif second_deriv_value<0:\n",
        "    arr_minimas.append(point)\n",
        "\n",
        "print(f'the array of minimas {arr_minimas} and the array of maximas is {arr_maximas}')\n",
        "\n"
      ]
    },
    {
      "cell_type": "code",
      "execution_count": null,
      "metadata": {
        "colab": {
          "base_uri": "https://localhost:8080/"
        },
        "id": "vaWQwmEHiRe8",
        "outputId": "fd8b3c6c-fe66-4050-cdc7-06c037cbc274"
      },
      "outputs": [
        {
          "output_type": "stream",
          "name": "stdout",
          "text": [
            "The global maxima is (-5/4 - sqrt(17)/4, -(-5/4 - sqrt(17)/4)**4 - sqrt(17)/2 - 3/2 + 4*(-5/4 - sqrt(17)/4)**2 - 2*(-5/4 - sqrt(17)/4)**3)\n",
            "The global minima is (-5/4 + sqrt(17)/4, -3/2 - (-5/4 + sqrt(17)/4)**4 - 2*(-5/4 + sqrt(17)/4)**3 + 4*(-5/4 + sqrt(17)/4)**2 + sqrt(17)/2)\n"
          ]
        }
      ],
      "source": [
        "\"\"\"\n",
        "Finding the Global Maxima and Global Minima for the x,y axis\n",
        "\"\"\"\n",
        "\n",
        "\n",
        "\n",
        "# Variables to store Global maxima and Global minima\n",
        "Global_maxima=(None,None)\n",
        "Global_minima=(None,None)\n",
        "\n",
        "#testing critical points\n",
        "for point in critical_points:\n",
        "  second_deriv_value= f_double_prime.subs(x,point)\n",
        "  function_value=f.subs(x,point)\n",
        "\n",
        "  if second_deriv_value>0:\n",
        "    arr_minimas.append(point)\n",
        "\n",
        "    #finding global minima\n",
        "    if Global_minima[1] is None or function_value < Global_minima[1]:\n",
        "      Global_minima=(point,function_value)\n",
        "  elif second_deriv_value<0:\n",
        "    arr_maximas.append(point)\n",
        "\n",
        "    #finding global maxima\n",
        "    if Global_maxima[1] is None or function_value > Global_maxima[1]:\n",
        "      Global_maxima=(point,function_value)\n",
        "\n",
        "\n",
        "print(f'The global maxima is {Global_maxima}')\n",
        "\n",
        "print(f'The global minima is {Global_minima}')"
      ]
    },
    {
      "cell_type": "markdown",
      "metadata": {
        "id": "hMyJ1weqo0ZR"
      },
      "source": [
        "#Finally, What is the global Minima and the Global maxima _ Plot this so that I can see"
      ]
    },
    {
      "cell_type": "code",
      "source": [
        "\n",
        "# Adding titles and labels\n",
        "plt.figure(figsize=(8, 6))\n",
        "plt.plot(x_vals, y_vals, label=r\"$f(x) = x^4 - 2x^3 + 4x^2 =2x + 1\", color=\"b\")\n",
        "\n",
        "\n",
        "# Plot the global minima and maxima with distinct markers\n",
        "plt.scatter(Global_minima[0], Global_minima[1], color='purple', zorder=6, label='Global Minima', marker='v', s=100)\n",
        "plt.scatter(Global_maxima[0], Global_maxima[1], color='orange', zorder=6, label='Global Maxima', marker='^', s=100)\n",
        "\n",
        "# Add labels and title\n",
        "plt.title(\"Graph of $f(x) = -x^4 - 2x^3 + 4x^2 + 2x +1$ with Global Minima and Maxima\", fontsize=14)\n",
        "plt.xlabel(\"x\", fontsize=12)\n",
        "plt.ylabel(\"f(x)\", fontsize=12)\n",
        "\n",
        "# Add a grid for easier reading\n",
        "plt.grid(True)\n",
        "\n",
        "# Show legend\n",
        "plt.legend()\n",
        "\n",
        "# Show the plot\n",
        "plt.show()"
      ],
      "metadata": {
        "colab": {
          "base_uri": "https://localhost:8080/",
          "height": 574
        },
        "id": "vwDhuBkRaO5t",
        "outputId": "c668de73-b7a8-4b33-ba0d-11ebcf4ce6e0"
      },
      "execution_count": null,
      "outputs": [
        {
          "output_type": "display_data",
          "data": {
            "text/plain": [
              "<Figure size 800x600 with 1 Axes>"
            ],
            "image/png": "[encoded data removed]"
          },
          "metadata": {}
        }
      ]
    },
    {
      "cell_type": "markdown",
      "metadata": {
        "id": "cvvdb2dh5DzV"
      },
      "source": [
        "# Task 5: Finding the Area under the curve"
      ]
    },
    {
      "cell_type": "code",
      "execution_count": null,
      "metadata": {
        "id": "grpVdMGg5PSR",
        "colab": {
          "base_uri": "https://localhost:8080/"
        },
        "outputId": "7a6cad16-4c5a-493a-f532-dd943cce51e1"
      },
      "outputs": [
        {
          "output_type": "stream",
          "name": "stdout",
          "text": [
            "The area under the curve is: -96/5\n"
          ]
        }
      ],
      "source": [
        "# Define symbolic variable\n",
        "x = sp.symbols('x')\n",
        "\n",
        "# define the function\n",
        "f_expr = -x**4 -2*x**3 + 4*x**2 + 2*x + 1\n",
        "\n",
        "# interval for integration\n",
        "a = -3\n",
        "b = 3\n",
        "\n",
        "# calculate the area under the curve (definite integration)\n",
        "area_under_curve = sp.integrate(f_expr, (x, a, b))\n",
        "\n",
        "print(f\"The area under the curve is: {area_under_curve}\")"
      ]
    },
    {
      "cell_type": "markdown",
      "metadata": {
        "id": "W9qLLf9Ei8G7"
      },
      "source": [
        "# Things trhat may help\n",
        "\n",
        "We came up with a functon\n",
        "\n",
        "$$\n",
        "f(x) = 4x^2 + x^-1\n",
        "$$\n",
        "\n",
        "So we create a fucntion in python\n",
        "\n",
        "\n",
        "\n",
        "```\n",
        "def f(x):\n",
        "  #see our code below\n",
        "```\n",
        "\n"
      ]
    },
    {
      "cell_type": "code",
      "execution_count": null,
      "metadata": {
        "id": "D8SOdxIBc1H9"
      },
      "outputs": [],
      "source": [
        "#This is an Example of a quadratic function\n",
        "def f(x):\n",
        "   return (4 * (x** 2)) + (x ** -1)"
      ]
    },
    {
      "cell_type": "markdown",
      "metadata": {
        "id": "YdEAhWv2i1wU"
      },
      "source": [
        "We manuall calculated the derivative  and got that\n",
        "$$\n",
        "df(x)/dx = 8x^1 + x^-2\n",
        "$$\n",
        "\n",
        "Using the formula above we find points where the derivative is 0\n",
        "\n",
        "the values are:\n",
        "\n",
        "$$\n",
        "x1 = 0.5, x1 = - 0.5,x1 = 0,\n",
        "$$\n",
        "\n",
        "If you replace this in our original formula\n",
        "\n",
        "$$\n",
        "f(0.5) = 4(0.5)^2 + (0.5^-1 = -1.0\n",
        "$$\n",
        "$$\n",
        "f(0) = 4x^2 + x^-1 = No solution\n",
        "$$\n",
        "$$\n",
        "f(-0.5) = 4x^2 + x^-1 = 1\n",
        "$$\n",
        "\n",
        "Meaning our curve is flat at point $$(0.5,1) $$ and at $$ (-0.5,1)$$\n",
        "\n",
        "Proof Pending........\n",
        "\n",
        "Here is how we tried with code and got some errors"
      ]
    },
    {
      "cell_type": "code",
      "execution_count": null,
      "metadata": {
        "colab": {
          "base_uri": "https://localhost:8080/",
          "height": 311
        },
        "id": "BSsC7fL8fX-7",
        "outputId": "69a50319-8310-4e50-a6db-49acb29287d9"
      },
      "outputs": [
        {
          "output_type": "error",
          "ename": "ZeroDivisionError",
          "evalue": "0.0 cannot be raised to a negative power",
          "traceback": [
            "\u001b[0;31m---------------------------------------------------------------------------\u001b[0m",
            "\u001b[0;31mZeroDivisionError\u001b[0m                         Traceback (most recent call last)",
            "\u001b[0;32m<ipython-input-50-fc8975a08ef9>\u001b[0m in \u001b[0;36m<cell line: 7>\u001b[0;34m()\u001b[0m\n\u001b[1;32m      5\u001b[0m \u001b[0my1\u001b[0m \u001b[0;34m=\u001b[0m \u001b[0mf\u001b[0m\u001b[0;34m(\u001b[0m\u001b[0mx1\u001b[0m\u001b[0;34m)\u001b[0m\u001b[0;34m\u001b[0m\u001b[0;34m\u001b[0m\u001b[0m\n\u001b[1;32m      6\u001b[0m \u001b[0my2\u001b[0m \u001b[0;34m=\u001b[0m \u001b[0mf\u001b[0m\u001b[0;34m(\u001b[0m\u001b[0mx2\u001b[0m\u001b[0;34m)\u001b[0m\u001b[0;34m\u001b[0m\u001b[0;34m\u001b[0m\u001b[0m\n\u001b[0;32m----> 7\u001b[0;31m \u001b[0my3\u001b[0m \u001b[0;34m=\u001b[0m \u001b[0mf\u001b[0m\u001b[0;34m(\u001b[0m\u001b[0mx3\u001b[0m\u001b[0;34m)\u001b[0m\u001b[0;34m\u001b[0m\u001b[0;34m\u001b[0m\u001b[0m\n\u001b[0m\u001b[1;32m      8\u001b[0m \u001b[0;34m\u001b[0m\u001b[0m\n\u001b[1;32m      9\u001b[0m \u001b[0mprint\u001b[0m\u001b[0;34m(\u001b[0m\u001b[0my2\u001b[0m\u001b[0;34m)\u001b[0m\u001b[0;34m\u001b[0m\u001b[0;34m\u001b[0m\u001b[0m\n",
            "\u001b[0;32m<ipython-input-49-6a316e2d262c>\u001b[0m in \u001b[0;36mf\u001b[0;34m(x)\u001b[0m\n\u001b[1;32m      1\u001b[0m \u001b[0;31m#This is an Example of a quadratic function\u001b[0m\u001b[0;34m\u001b[0m\u001b[0;34m\u001b[0m\u001b[0m\n\u001b[1;32m      2\u001b[0m \u001b[0;32mdef\u001b[0m \u001b[0mf\u001b[0m\u001b[0;34m(\u001b[0m\u001b[0mx\u001b[0m\u001b[0;34m)\u001b[0m\u001b[0;34m:\u001b[0m\u001b[0;34m\u001b[0m\u001b[0;34m\u001b[0m\u001b[0m\n\u001b[0;32m----> 3\u001b[0;31m    \u001b[0;32mreturn\u001b[0m \u001b[0;34m(\u001b[0m\u001b[0;36m4\u001b[0m \u001b[0;34m*\u001b[0m \u001b[0;34m(\u001b[0m\u001b[0mx\u001b[0m\u001b[0;34m**\u001b[0m \u001b[0;36m2\u001b[0m\u001b[0;34m)\u001b[0m\u001b[0;34m)\u001b[0m \u001b[0;34m+\u001b[0m \u001b[0;34m(\u001b[0m\u001b[0mx\u001b[0m \u001b[0;34m**\u001b[0m \u001b[0;34m-\u001b[0m\u001b[0;36m1\u001b[0m\u001b[0;34m)\u001b[0m\u001b[0;34m\u001b[0m\u001b[0;34m\u001b[0m\u001b[0m\n\u001b[0m",
            "\u001b[0;31mZeroDivisionError\u001b[0m: 0.0 cannot be raised to a negative power"
          ]
        }
      ],
      "source": [
        "\n",
        "\n",
        "x1 = 0.5\n",
        "x2 = -0.5\n",
        "x3 = 0\n",
        "\n",
        "y1 = f(x1)\n",
        "y2 = f(x2)\n",
        "y3 = f(x3)\n",
        "\n",
        "print(y2)\n",
        "(0.5,3)\n"
      ]
    },
    {
      "cell_type": "markdown",
      "metadata": {
        "id": "Fk6f0P_Om4VE"
      },
      "source": [
        "# **You can now do the Rest.All the Best ........**"
      ]
    }
  ],
  "metadata": {
    "colab": {
      "provenance": [],
      "include_colab_link": true
    },
    "kernelspec": {
      "display_name": "Python 3",
      "name": "python3"
    },
    "language_info": {
      "name": "python"
    }
  },
  "nbformat": 4,
  "nbformat_minor": 0
}