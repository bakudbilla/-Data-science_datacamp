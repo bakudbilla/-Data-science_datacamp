{
 "cells": [
  {
   "cell_type": "code",
   "execution_count": 1,
   "id": "b893690c",
   "metadata": {},
   "outputs": [],
   "source": [
    "import numpy as np\n",
    "import pandas as pd\n",
    "import matplotlib.pyplot as plt\n",
    "import seaborn as sns"
   ]
  },
  {
   "cell_type": "code",
   "execution_count": 2,
   "id": "328601cd",
   "metadata": {},
   "outputs": [],
   "source": [
    "salaries= pd.read_csv(\"ds_salaries_clean (1).csv\")"
   ]
  },
  {
   "cell_type": "code",
   "execution_count": 3,
   "id": "da4cba19",
   "metadata": {},
   "outputs": [
    {
     "data": {
      "text/html": [
       "<div>\n",
       "<style scoped>\n",
       "    .dataframe tbody tr th:only-of-type {\n",
       "        vertical-align: middle;\n",
       "    }\n",
       "\n",
       "    .dataframe tbody tr th {\n",
       "        vertical-align: top;\n",
       "    }\n",
       "\n",
       "    .dataframe thead th {\n",
       "        text-align: right;\n",
       "    }\n",
       "</style>\n",
       "<table border=\"1\" class=\"dataframe\">\n",
       "  <thead>\n",
       "    <tr style=\"text-align: right;\">\n",
       "      <th></th>\n",
       "      <th>Working_Year</th>\n",
       "      <th>Designation</th>\n",
       "      <th>Experience</th>\n",
       "      <th>Employment_Status</th>\n",
       "      <th>Employee_Location</th>\n",
       "      <th>Company_Size</th>\n",
       "      <th>Remote_Working_Ratio</th>\n",
       "      <th>Salary_USD</th>\n",
       "    </tr>\n",
       "  </thead>\n",
       "  <tbody>\n",
       "    <tr>\n",
       "      <th>0</th>\n",
       "      <td>2020</td>\n",
       "      <td>Data Scientist</td>\n",
       "      <td>Mid</td>\n",
       "      <td>FT</td>\n",
       "      <td>DE</td>\n",
       "      <td>L</td>\n",
       "      <td>0</td>\n",
       "      <td>76227.0</td>\n",
       "    </tr>\n",
       "    <tr>\n",
       "      <th>1</th>\n",
       "      <td>2020</td>\n",
       "      <td>Machine Learning Scientist</td>\n",
       "      <td>Senior</td>\n",
       "      <td>FT</td>\n",
       "      <td>JP</td>\n",
       "      <td>S</td>\n",
       "      <td>0</td>\n",
       "      <td>248257.0</td>\n",
       "    </tr>\n",
       "    <tr>\n",
       "      <th>2</th>\n",
       "      <td>2020</td>\n",
       "      <td>Big Data Engineer</td>\n",
       "      <td>Senior</td>\n",
       "      <td>FT</td>\n",
       "      <td>GB</td>\n",
       "      <td>M</td>\n",
       "      <td>50</td>\n",
       "      <td>104100.0</td>\n",
       "    </tr>\n",
       "    <tr>\n",
       "      <th>3</th>\n",
       "      <td>2020</td>\n",
       "      <td>Product Data Analyst</td>\n",
       "      <td>Mid</td>\n",
       "      <td>FT</td>\n",
       "      <td>HN</td>\n",
       "      <td>S</td>\n",
       "      <td>0</td>\n",
       "      <td>19097.0</td>\n",
       "    </tr>\n",
       "    <tr>\n",
       "      <th>4</th>\n",
       "      <td>2020</td>\n",
       "      <td>Machine Learning Engineer</td>\n",
       "      <td>Senior</td>\n",
       "      <td>FT</td>\n",
       "      <td>US</td>\n",
       "      <td>L</td>\n",
       "      <td>50</td>\n",
       "      <td>143225.0</td>\n",
       "    </tr>\n",
       "  </tbody>\n",
       "</table>\n",
       "</div>"
      ],
      "text/plain": [
       "   Working_Year                 Designation Experience Employment_Status  \\\n",
       "0          2020              Data Scientist        Mid                FT   \n",
       "1          2020  Machine Learning Scientist     Senior                FT   \n",
       "2          2020           Big Data Engineer     Senior                FT   \n",
       "3          2020        Product Data Analyst        Mid                FT   \n",
       "4          2020   Machine Learning Engineer     Senior                FT   \n",
       "\n",
       "  Employee_Location Company_Size  Remote_Working_Ratio  Salary_USD  \n",
       "0                DE            L                     0     76227.0  \n",
       "1                JP            S                     0    248257.0  \n",
       "2                GB            M                    50    104100.0  \n",
       "3                HN            S                     0     19097.0  \n",
       "4                US            L                    50    143225.0  "
      ]
     },
     "execution_count": 3,
     "metadata": {},
     "output_type": "execute_result"
    }
   ],
   "source": [
    "salaries.head(5)"
   ]
  },
  {
   "cell_type": "code",
   "execution_count": 4,
   "id": "462cccc4",
   "metadata": {
    "scrolled": false
   },
   "outputs": [],
   "source": [
    "#pd.Series.str.replace(\"charactersto move\",\"characters to replace them with\")\n",
    "#salaries[\"Salary_In_Rupees\"]=salaries[\"Salaries_In_Rupees\"].str.replace(\",\",\"\")\n",
    "#print(salary[\"Salary_In_Rupees\"].head())"
   ]
  },
  {
   "cell_type": "code",
   "execution_count": 5,
   "id": "5f774a2e",
   "metadata": {},
   "outputs": [],
   "source": [
    "#converting strings to numbers\n",
    "#salaries[\"Salary_In_Rupees\"]=salaries[\"Salary_In_Rupees\"].astype(float)\n",
    "#salaries[\"Salary_USD\"]=salaries[\"Salary_In_Rupees\"]*0.012"
   ]
  },
  {
   "cell_type": "code",
   "execution_count": 6,
   "id": "6fe8460b",
   "metadata": {},
   "outputs": [],
   "source": [
    "salaries[\"std_dev\"]=salaries.groupby(\"Experience\")[\"Salary_USD\"].transform(lambda x:x.std())"
   ]
  },
  {
   "cell_type": "code",
   "execution_count": 7,
   "id": "59a1cf45",
   "metadata": {},
   "outputs": [
    {
     "data": {
      "text/plain": [
       "0      61014.876754\n",
       "1      55086.264071\n",
       "2      55086.264071\n",
       "3      61014.876754\n",
       "4      55086.264071\n",
       "           ...     \n",
       "602    55086.264071\n",
       "603    55086.264071\n",
       "604    55086.264071\n",
       "605    55086.264071\n",
       "606    61014.876754\n",
       "Name: std_dev, Length: 607, dtype: float64"
      ]
     },
     "execution_count": 7,
     "metadata": {},
     "output_type": "execute_result"
    }
   ],
   "source": [
    "salaries[\"std_dev\"]"
   ]
  },
  {
   "cell_type": "code",
   "execution_count": 8,
   "id": "768e27c1",
   "metadata": {},
   "outputs": [
    {
     "data": {
      "text/html": [
       "<div>\n",
       "<style scoped>\n",
       "    .dataframe tbody tr th:only-of-type {\n",
       "        vertical-align: middle;\n",
       "    }\n",
       "\n",
       "    .dataframe tbody tr th {\n",
       "        vertical-align: top;\n",
       "    }\n",
       "\n",
       "    .dataframe thead th {\n",
       "        text-align: right;\n",
       "    }\n",
       "</style>\n",
       "<table border=\"1\" class=\"dataframe\">\n",
       "  <thead>\n",
       "    <tr style=\"text-align: right;\">\n",
       "      <th></th>\n",
       "      <th>Working_Year</th>\n",
       "      <th>Designation</th>\n",
       "      <th>Experience</th>\n",
       "      <th>Employment_Status</th>\n",
       "      <th>Employee_Location</th>\n",
       "      <th>Company_Size</th>\n",
       "      <th>Remote_Working_Ratio</th>\n",
       "      <th>Salary_USD</th>\n",
       "      <th>std_dev</th>\n",
       "    </tr>\n",
       "  </thead>\n",
       "  <tbody>\n",
       "    <tr>\n",
       "      <th>0</th>\n",
       "      <td>2020</td>\n",
       "      <td>Data Scientist</td>\n",
       "      <td>Mid</td>\n",
       "      <td>FT</td>\n",
       "      <td>DE</td>\n",
       "      <td>L</td>\n",
       "      <td>0</td>\n",
       "      <td>76227.0</td>\n",
       "      <td>61014.876754</td>\n",
       "    </tr>\n",
       "    <tr>\n",
       "      <th>1</th>\n",
       "      <td>2020</td>\n",
       "      <td>Machine Learning Scientist</td>\n",
       "      <td>Senior</td>\n",
       "      <td>FT</td>\n",
       "      <td>JP</td>\n",
       "      <td>S</td>\n",
       "      <td>0</td>\n",
       "      <td>248257.0</td>\n",
       "      <td>55086.264071</td>\n",
       "    </tr>\n",
       "    <tr>\n",
       "      <th>2</th>\n",
       "      <td>2020</td>\n",
       "      <td>Big Data Engineer</td>\n",
       "      <td>Senior</td>\n",
       "      <td>FT</td>\n",
       "      <td>GB</td>\n",
       "      <td>M</td>\n",
       "      <td>50</td>\n",
       "      <td>104100.0</td>\n",
       "      <td>55086.264071</td>\n",
       "    </tr>\n",
       "    <tr>\n",
       "      <th>3</th>\n",
       "      <td>2020</td>\n",
       "      <td>Product Data Analyst</td>\n",
       "      <td>Mid</td>\n",
       "      <td>FT</td>\n",
       "      <td>HN</td>\n",
       "      <td>S</td>\n",
       "      <td>0</td>\n",
       "      <td>19097.0</td>\n",
       "      <td>61014.876754</td>\n",
       "    </tr>\n",
       "    <tr>\n",
       "      <th>4</th>\n",
       "      <td>2020</td>\n",
       "      <td>Machine Learning Engineer</td>\n",
       "      <td>Senior</td>\n",
       "      <td>FT</td>\n",
       "      <td>US</td>\n",
       "      <td>L</td>\n",
       "      <td>50</td>\n",
       "      <td>143225.0</td>\n",
       "      <td>55086.264071</td>\n",
       "    </tr>\n",
       "  </tbody>\n",
       "</table>\n",
       "</div>"
      ],
      "text/plain": [
       "   Working_Year                 Designation Experience Employment_Status  \\\n",
       "0          2020              Data Scientist        Mid                FT   \n",
       "1          2020  Machine Learning Scientist     Senior                FT   \n",
       "2          2020           Big Data Engineer     Senior                FT   \n",
       "3          2020        Product Data Analyst        Mid                FT   \n",
       "4          2020   Machine Learning Engineer     Senior                FT   \n",
       "\n",
       "  Employee_Location Company_Size  Remote_Working_Ratio  Salary_USD  \\\n",
       "0                DE            L                     0     76227.0   \n",
       "1                JP            S                     0    248257.0   \n",
       "2                GB            M                    50    104100.0   \n",
       "3                HN            S                     0     19097.0   \n",
       "4                US            L                    50    143225.0   \n",
       "\n",
       "        std_dev  \n",
       "0  61014.876754  \n",
       "1  55086.264071  \n",
       "2  55086.264071  \n",
       "3  61014.876754  \n",
       "4  55086.264071  "
      ]
     },
     "execution_count": 8,
     "metadata": {},
     "output_type": "execute_result"
    }
   ],
   "source": [
    "salaries.head()"
   ]
  },
  {
   "cell_type": "code",
   "execution_count": 9,
   "id": "f8c63ed6",
   "metadata": {},
   "outputs": [
    {
     "name": "stdout",
     "output_type": "stream",
     "text": [
      "Experience  std_dev      \n",
      "Senior      55086.264071     280\n",
      "Mid         61014.876754     213\n",
      "Entry       42390.355189      88\n",
      "Executive   111783.576779     26\n",
      "dtype: int64\n"
     ]
    }
   ],
   "source": [
    "print(salaries[[\"Experience\",\"std_dev\"]].value_counts())"
   ]
  },
  {
   "cell_type": "code",
   "execution_count": 47,
   "id": "22ae1de4",
   "metadata": {},
   "outputs": [],
   "source": [
    "#Using Duration Dataset\n",
    "planes=pd.read_csv(\"planes.csv\")"
   ]
  },
  {
   "cell_type": "code",
   "execution_count": 48,
   "id": "79c595a4",
   "metadata": {},
   "outputs": [
    {
     "data": {
      "text/html": [
       "<div>\n",
       "<style scoped>\n",
       "    .dataframe tbody tr th:only-of-type {\n",
       "        vertical-align: middle;\n",
       "    }\n",
       "\n",
       "    .dataframe tbody tr th {\n",
       "        vertical-align: top;\n",
       "    }\n",
       "\n",
       "    .dataframe thead th {\n",
       "        text-align: right;\n",
       "    }\n",
       "</style>\n",
       "<table border=\"1\" class=\"dataframe\">\n",
       "  <thead>\n",
       "    <tr style=\"text-align: right;\">\n",
       "      <th></th>\n",
       "      <th>Airline</th>\n",
       "      <th>Date_of_Journey</th>\n",
       "      <th>Source</th>\n",
       "      <th>Destination</th>\n",
       "      <th>Route</th>\n",
       "      <th>Dep_Time</th>\n",
       "      <th>Arrival_Time</th>\n",
       "      <th>Duration</th>\n",
       "      <th>Total_Stops</th>\n",
       "      <th>Additional_Info</th>\n",
       "      <th>Price</th>\n",
       "    </tr>\n",
       "  </thead>\n",
       "  <tbody>\n",
       "    <tr>\n",
       "      <th>0</th>\n",
       "      <td>Jet Airways</td>\n",
       "      <td>9/06/2019</td>\n",
       "      <td>Delhi</td>\n",
       "      <td>Cochin</td>\n",
       "      <td>DEL → LKO → BOM → COK</td>\n",
       "      <td>09:25</td>\n",
       "      <td>04:25 10 Jun</td>\n",
       "      <td>19h</td>\n",
       "      <td>2 stops</td>\n",
       "      <td>No info</td>\n",
       "      <td>13882.0</td>\n",
       "    </tr>\n",
       "    <tr>\n",
       "      <th>1</th>\n",
       "      <td>IndiGo</td>\n",
       "      <td>12/05/2019</td>\n",
       "      <td>Kolkata</td>\n",
       "      <td>Banglore</td>\n",
       "      <td>CCU → NAG → BLR</td>\n",
       "      <td>18:05</td>\n",
       "      <td>23:30</td>\n",
       "      <td>5h 25m</td>\n",
       "      <td>1 stop</td>\n",
       "      <td>No info</td>\n",
       "      <td>6218.0</td>\n",
       "    </tr>\n",
       "    <tr>\n",
       "      <th>2</th>\n",
       "      <td>IndiGo</td>\n",
       "      <td>01/03/2019</td>\n",
       "      <td>Banglore</td>\n",
       "      <td>New Delhi</td>\n",
       "      <td>BLR → NAG → DEL</td>\n",
       "      <td>16:50</td>\n",
       "      <td>21:35</td>\n",
       "      <td>4h 45m</td>\n",
       "      <td>1 stop</td>\n",
       "      <td>No info</td>\n",
       "      <td>13302.0</td>\n",
       "    </tr>\n",
       "    <tr>\n",
       "      <th>3</th>\n",
       "      <td>SpiceJet</td>\n",
       "      <td>24/06/2019</td>\n",
       "      <td>Kolkata</td>\n",
       "      <td>Banglore</td>\n",
       "      <td>CCU → BLR</td>\n",
       "      <td>09:00</td>\n",
       "      <td>11:25</td>\n",
       "      <td>2h 25m</td>\n",
       "      <td>non-stop</td>\n",
       "      <td>No info</td>\n",
       "      <td>3873.0</td>\n",
       "    </tr>\n",
       "    <tr>\n",
       "      <th>4</th>\n",
       "      <td>Jet Airways</td>\n",
       "      <td>12/03/2019</td>\n",
       "      <td>Banglore</td>\n",
       "      <td>New Delhi</td>\n",
       "      <td>BLR → BOM → DEL</td>\n",
       "      <td>18:55</td>\n",
       "      <td>10:25 13 Mar</td>\n",
       "      <td>15h 30m</td>\n",
       "      <td>1 stop</td>\n",
       "      <td>In-flight meal not included</td>\n",
       "      <td>11087.0</td>\n",
       "    </tr>\n",
       "  </tbody>\n",
       "</table>\n",
       "</div>"
      ],
      "text/plain": [
       "       Airline Date_of_Journey    Source Destination                  Route  \\\n",
       "0  Jet Airways       9/06/2019     Delhi      Cochin  DEL → LKO → BOM → COK   \n",
       "1       IndiGo      12/05/2019   Kolkata    Banglore        CCU → NAG → BLR   \n",
       "2       IndiGo      01/03/2019  Banglore   New Delhi        BLR → NAG → DEL   \n",
       "3     SpiceJet      24/06/2019   Kolkata    Banglore              CCU → BLR   \n",
       "4  Jet Airways      12/03/2019  Banglore   New Delhi        BLR → BOM → DEL   \n",
       "\n",
       "  Dep_Time  Arrival_Time Duration Total_Stops              Additional_Info  \\\n",
       "0    09:25  04:25 10 Jun      19h     2 stops                      No info   \n",
       "1    18:05         23:30   5h 25m      1 stop                      No info   \n",
       "2    16:50         21:35   4h 45m      1 stop                      No info   \n",
       "3    09:00         11:25   2h 25m    non-stop                      No info   \n",
       "4    18:55  10:25 13 Mar  15h 30m      1 stop  In-flight meal not included   \n",
       "\n",
       "     Price  \n",
       "0  13882.0  \n",
       "1   6218.0  \n",
       "2  13302.0  \n",
       "3   3873.0  \n",
       "4  11087.0  "
      ]
     },
     "execution_count": 48,
     "metadata": {},
     "output_type": "execute_result"
    }
   ],
   "source": [
    "planes.head()"
   ]
  },
  {
   "cell_type": "code",
   "execution_count": 49,
   "id": "89fca5b3",
   "metadata": {},
   "outputs": [
    {
     "name": "stdout",
     "output_type": "stream",
     "text": [
      "<class 'pandas.core.frame.DataFrame'>\n",
      "RangeIndex: 10660 entries, 0 to 10659\n",
      "Data columns (total 11 columns):\n",
      " #   Column           Non-Null Count  Dtype  \n",
      "---  ------           --------------  -----  \n",
      " 0   Airline          10233 non-null  object \n",
      " 1   Date_of_Journey  10338 non-null  object \n",
      " 2   Source           10473 non-null  object \n",
      " 3   Destination      10313 non-null  object \n",
      " 4   Route            10404 non-null  object \n",
      " 5   Dep_Time         10400 non-null  object \n",
      " 6   Arrival_Time     10466 non-null  object \n",
      " 7   Duration         10446 non-null  object \n",
      " 8   Total_Stops      10448 non-null  object \n",
      " 9   Additional_Info  10071 non-null  object \n",
      " 10  Price            10044 non-null  float64\n",
      "dtypes: float64(1), object(10)\n",
      "memory usage: 916.2+ KB\n"
     ]
    }
   ],
   "source": [
    "planes.info()"
   ]
  },
  {
   "cell_type": "code",
   "execution_count": 50,
   "id": "a9b44b61",
   "metadata": {},
   "outputs": [
    {
     "data": {
      "text/plain": [
       "0        19h\n",
       "1     5h 25m\n",
       "2     4h 45m\n",
       "3     2h 25m\n",
       "4    15h 30m\n",
       "Name: Duration, dtype: object"
      ]
     },
     "execution_count": 50,
     "metadata": {},
     "output_type": "execute_result"
    }
   ],
   "source": [
    "planes[\"Duration\"].head(5)"
   ]
  },
  {
   "cell_type": "code",
   "execution_count": 14,
   "id": "a4b71f65",
   "metadata": {},
   "outputs": [],
   "source": [
    "planes[\"Duration\"]=planes[\"Duration\"].astype(str).str.replace(\"h\",\"\")"
   ]
  },
  {
   "cell_type": "code",
   "execution_count": 51,
   "id": "0ef2fb16",
   "metadata": {},
   "outputs": [
    {
     "data": {
      "text/plain": [
       "0            19h\n",
       "1         5h 25m\n",
       "2         4h 45m\n",
       "3         2h 25m\n",
       "4        15h 30m\n",
       "          ...   \n",
       "10655     2h 30m\n",
       "10656     2h 35m\n",
       "10657         3h\n",
       "10658     2h 40m\n",
       "10659     8h 20m\n",
       "Name: Duration, Length: 10660, dtype: object"
      ]
     },
     "execution_count": 51,
     "metadata": {},
     "output_type": "execute_result"
    }
   ],
   "source": [
    "planes[\"Duration\"]"
   ]
  },
  {
   "cell_type": "code",
   "execution_count": 52,
   "id": "dd08db54",
   "metadata": {},
   "outputs": [],
   "source": [
    "#planes[\"Duration\"]=planes[\"Duration\"].astype(float)\n"
   ]
  },
  {
   "cell_type": "code",
   "execution_count": 53,
   "id": "72196270",
   "metadata": {},
   "outputs": [
    {
     "name": "stdout",
     "output_type": "stream",
     "text": [
      "Airline            airline_price_st_dev\n",
      "Jet Airways        4230.748840             3685\n",
      "IndiGo             2266.753552             1981\n",
      "Air India          3865.871975             1686\n",
      "Multiple carriers  3763.674706             1148\n",
      "SpiceJet           1790.851944              787\n",
      "Vistara            2864.267802              455\n",
      "Air Asia           2016.738954              309\n",
      "GoAir              2790.815129              182\n",
      "dtype: int64\n"
     ]
    }
   ],
   "source": [
    "# Price standard deviation by Airline\n",
    "planes[\"airline_price_st_dev\"] = planes.groupby(\"Airline\")[\"Price\"].transform(lambda x: x.std())\n",
    "\n",
    "print(planes[[\"Airline\", \"airline_price_st_dev\"]].value_counts())"
   ]
  },
  {
   "cell_type": "code",
   "execution_count": 54,
   "id": "c7aafd27",
   "metadata": {},
   "outputs": [
    {
     "name": "stdout",
     "output_type": "stream",
     "text": [
      "Destination  price_destination_mean\n",
      "Cochin       10506.993486              4391\n",
      "Banglore     9132.225153               2773\n",
      "Delhi        5157.794118               1219\n",
      "New Delhi    11738.589499               888\n",
      "Hyderabad    5025.210280                673\n",
      "Kolkata      4801.489796                369\n",
      "dtype: int64\n"
     ]
    }
   ],
   "source": [
    "# Mean Price by Destination\n",
    "planes[\"price_destination_mean\"] = planes.groupby(\"Destination\")[\"Price\"].transform(lambda x: x.mean())\n",
    "\n",
    "print(planes[[\"Destination\",\"price_destination_mean\"]].value_counts())"
   ]
  },
  {
   "cell_type": "markdown",
   "id": "30eef2ae",
   "metadata": {},
   "source": [
    "# Handling Outliers"
   ]
  },
  {
   "cell_type": "code",
   "execution_count": 55,
   "id": "16a5ddaf",
   "metadata": {},
   "outputs": [
    {
     "name": "stdout",
     "output_type": "stream",
     "text": [
      "count       607.000000\n",
      "mean     107225.836903\n",
      "std       67752.393254\n",
      "min        2730.000000\n",
      "25%       59893.000000\n",
      "50%       96982.000000\n",
      "75%      143225.000000\n",
      "max      572900.000000\n",
      "Name: Salary_USD, dtype: float64\n"
     ]
    }
   ],
   "source": [
    "print(salaries[\"Salary_USD\"].describe())"
   ]
  },
  {
   "cell_type": "code",
   "execution_count": 56,
   "id": "85b15ebe",
   "metadata": {},
   "outputs": [
    {
     "name": "stdout",
     "output_type": "stream",
     "text": [
      "143225.0\n",
      "59893.0\n",
      "83332.0\n"
     ]
    }
   ],
   "source": [
    "#Using   interquartile range(IQR)\n",
    "seventy_fifth_percentile=salaries[\"Salary_USD\"].quantile(0.75)\n",
    "twenty_fifth_percentile=salaries[\"Salary_USD\"].quantile(0.25)\n",
    "print(seventy_fifth_percentile)\n",
    "print(twenty_fifth_percentile)\n",
    "iqr=seventy_fifth_percentile-twenty_fifth_percentile\n",
    "print(iqr)"
   ]
  },
  {
   "cell_type": "code",
   "execution_count": 57,
   "id": "da59b66b",
   "metadata": {},
   "outputs": [
    {
     "name": "stdout",
     "output_type": "stream",
     "text": [
      "268223.0\n",
      "-65105.0\n"
     ]
    }
   ],
   "source": [
    "upper_outlier=seventy_fifth_percentile+(1.5*iqr)\n",
    "lower_outlier=twenty_fifth_percentile-(1.5*iqr)\n",
    "print(upper_outlier)\n",
    "print(lower_outlier)"
   ]
  },
  {
   "cell_type": "code",
   "execution_count": 58,
   "id": "396096c4",
   "metadata": {},
   "outputs": [
    {
     "data": {
      "text/html": [
       "<div>\n",
       "<style scoped>\n",
       "    .dataframe tbody tr th:only-of-type {\n",
       "        vertical-align: middle;\n",
       "    }\n",
       "\n",
       "    .dataframe tbody tr th {\n",
       "        vertical-align: top;\n",
       "    }\n",
       "\n",
       "    .dataframe thead th {\n",
       "        text-align: right;\n",
       "    }\n",
       "</style>\n",
       "<table border=\"1\" class=\"dataframe\">\n",
       "  <thead>\n",
       "    <tr style=\"text-align: right;\">\n",
       "      <th></th>\n",
       "      <th>Experience</th>\n",
       "      <th>Employee_Location</th>\n",
       "      <th>Salary_USD</th>\n",
       "    </tr>\n",
       "  </thead>\n",
       "  <tbody>\n",
       "    <tr>\n",
       "      <th>25</th>\n",
       "      <td>Executive</td>\n",
       "      <td>US</td>\n",
       "      <td>310321.0</td>\n",
       "    </tr>\n",
       "    <tr>\n",
       "      <th>33</th>\n",
       "      <td>Mid</td>\n",
       "      <td>US</td>\n",
       "      <td>429675.0</td>\n",
       "    </tr>\n",
       "    <tr>\n",
       "      <th>63</th>\n",
       "      <td>Senior</td>\n",
       "      <td>US</td>\n",
       "      <td>393392.0</td>\n",
       "    </tr>\n",
       "    <tr>\n",
       "      <th>97</th>\n",
       "      <td>Mid</td>\n",
       "      <td>US</td>\n",
       "      <td>429675.0</td>\n",
       "    </tr>\n",
       "    <tr>\n",
       "      <th>157</th>\n",
       "      <td>Mid</td>\n",
       "      <td>US</td>\n",
       "      <td>403895.0</td>\n",
       "    </tr>\n",
       "    <tr>\n",
       "      <th>225</th>\n",
       "      <td>Executive</td>\n",
       "      <td>US</td>\n",
       "      <td>397211.0</td>\n",
       "    </tr>\n",
       "    <tr>\n",
       "      <th>252</th>\n",
       "      <td>Executive</td>\n",
       "      <td>US</td>\n",
       "      <td>572900.0</td>\n",
       "    </tr>\n",
       "    <tr>\n",
       "      <th>482</th>\n",
       "      <td>Executive</td>\n",
       "      <td>US</td>\n",
       "      <td>309366.0</td>\n",
       "    </tr>\n",
       "    <tr>\n",
       "      <th>519</th>\n",
       "      <td>Senior</td>\n",
       "      <td>US</td>\n",
       "      <td>362837.0</td>\n",
       "    </tr>\n",
       "    <tr>\n",
       "      <th>523</th>\n",
       "      <td>Senior</td>\n",
       "      <td>US</td>\n",
       "      <td>386708.0</td>\n",
       "    </tr>\n",
       "  </tbody>\n",
       "</table>\n",
       "</div>"
      ],
      "text/plain": [
       "    Experience Employee_Location  Salary_USD\n",
       "25   Executive                US    310321.0\n",
       "33         Mid                US    429675.0\n",
       "63      Senior                US    393392.0\n",
       "97         Mid                US    429675.0\n",
       "157        Mid                US    403895.0\n",
       "225  Executive                US    397211.0\n",
       "252  Executive                US    572900.0\n",
       "482  Executive                US    309366.0\n",
       "519     Senior                US    362837.0\n",
       "523     Senior                US    386708.0"
      ]
     },
     "execution_count": 58,
     "metadata": {},
     "output_type": "execute_result"
    }
   ],
   "source": [
    "#Subsetting data to show the outliers\n",
    "salaries[(salaries[\"Salary_USD\"]<lower_outlier) | (salaries[\"Salary_USD\"]>upper_outlier) ][[\"Experience\",\"Employee_Location\",\"Salary_USD\"]]"
   ]
  },
  {
   "cell_type": "code",
   "execution_count": 59,
   "id": "ce02fc6c",
   "metadata": {},
   "outputs": [],
   "source": [
    "no_outliers=salaries[(salaries[\"Salary_USD\"]>lower_outlier)&(salaries[\"Salary_USD\"]<upper_outlier)]"
   ]
  },
  {
   "cell_type": "code",
   "execution_count": 60,
   "id": "a686333d",
   "metadata": {},
   "outputs": [
    {
     "data": {
      "text/html": [
       "<div>\n",
       "<style scoped>\n",
       "    .dataframe tbody tr th:only-of-type {\n",
       "        vertical-align: middle;\n",
       "    }\n",
       "\n",
       "    .dataframe tbody tr th {\n",
       "        vertical-align: top;\n",
       "    }\n",
       "\n",
       "    .dataframe thead th {\n",
       "        text-align: right;\n",
       "    }\n",
       "</style>\n",
       "<table border=\"1\" class=\"dataframe\">\n",
       "  <thead>\n",
       "    <tr style=\"text-align: right;\">\n",
       "      <th></th>\n",
       "      <th>Working_Year</th>\n",
       "      <th>Designation</th>\n",
       "      <th>Experience</th>\n",
       "      <th>Employment_Status</th>\n",
       "      <th>Employee_Location</th>\n",
       "      <th>Company_Size</th>\n",
       "      <th>Remote_Working_Ratio</th>\n",
       "      <th>Salary_USD</th>\n",
       "      <th>std_dev</th>\n",
       "    </tr>\n",
       "  </thead>\n",
       "  <tbody>\n",
       "    <tr>\n",
       "      <th>0</th>\n",
       "      <td>2020</td>\n",
       "      <td>Data Scientist</td>\n",
       "      <td>Mid</td>\n",
       "      <td>FT</td>\n",
       "      <td>DE</td>\n",
       "      <td>L</td>\n",
       "      <td>0</td>\n",
       "      <td>76227.0</td>\n",
       "      <td>61014.876754</td>\n",
       "    </tr>\n",
       "    <tr>\n",
       "      <th>1</th>\n",
       "      <td>2020</td>\n",
       "      <td>Machine Learning Scientist</td>\n",
       "      <td>Senior</td>\n",
       "      <td>FT</td>\n",
       "      <td>JP</td>\n",
       "      <td>S</td>\n",
       "      <td>0</td>\n",
       "      <td>248257.0</td>\n",
       "      <td>55086.264071</td>\n",
       "    </tr>\n",
       "    <tr>\n",
       "      <th>2</th>\n",
       "      <td>2020</td>\n",
       "      <td>Big Data Engineer</td>\n",
       "      <td>Senior</td>\n",
       "      <td>FT</td>\n",
       "      <td>GB</td>\n",
       "      <td>M</td>\n",
       "      <td>50</td>\n",
       "      <td>104100.0</td>\n",
       "      <td>55086.264071</td>\n",
       "    </tr>\n",
       "    <tr>\n",
       "      <th>3</th>\n",
       "      <td>2020</td>\n",
       "      <td>Product Data Analyst</td>\n",
       "      <td>Mid</td>\n",
       "      <td>FT</td>\n",
       "      <td>HN</td>\n",
       "      <td>S</td>\n",
       "      <td>0</td>\n",
       "      <td>19097.0</td>\n",
       "      <td>61014.876754</td>\n",
       "    </tr>\n",
       "    <tr>\n",
       "      <th>4</th>\n",
       "      <td>2020</td>\n",
       "      <td>Machine Learning Engineer</td>\n",
       "      <td>Senior</td>\n",
       "      <td>FT</td>\n",
       "      <td>US</td>\n",
       "      <td>L</td>\n",
       "      <td>50</td>\n",
       "      <td>143225.0</td>\n",
       "      <td>55086.264071</td>\n",
       "    </tr>\n",
       "    <tr>\n",
       "      <th>...</th>\n",
       "      <td>...</td>\n",
       "      <td>...</td>\n",
       "      <td>...</td>\n",
       "      <td>...</td>\n",
       "      <td>...</td>\n",
       "      <td>...</td>\n",
       "      <td>...</td>\n",
       "      <td>...</td>\n",
       "      <td>...</td>\n",
       "    </tr>\n",
       "    <tr>\n",
       "      <th>602</th>\n",
       "      <td>2022</td>\n",
       "      <td>Data Engineer</td>\n",
       "      <td>Senior</td>\n",
       "      <td>FT</td>\n",
       "      <td>US</td>\n",
       "      <td>M</td>\n",
       "      <td>100</td>\n",
       "      <td>147044.0</td>\n",
       "      <td>55086.264071</td>\n",
       "    </tr>\n",
       "    <tr>\n",
       "      <th>603</th>\n",
       "      <td>2022</td>\n",
       "      <td>Data Engineer</td>\n",
       "      <td>Senior</td>\n",
       "      <td>FT</td>\n",
       "      <td>US</td>\n",
       "      <td>M</td>\n",
       "      <td>100</td>\n",
       "      <td>120309.0</td>\n",
       "      <td>55086.264071</td>\n",
       "    </tr>\n",
       "    <tr>\n",
       "      <th>604</th>\n",
       "      <td>2022</td>\n",
       "      <td>Data Analyst</td>\n",
       "      <td>Senior</td>\n",
       "      <td>FT</td>\n",
       "      <td>US</td>\n",
       "      <td>M</td>\n",
       "      <td>0</td>\n",
       "      <td>123174.0</td>\n",
       "      <td>55086.264071</td>\n",
       "    </tr>\n",
       "    <tr>\n",
       "      <th>605</th>\n",
       "      <td>2022</td>\n",
       "      <td>Data Analyst</td>\n",
       "      <td>Senior</td>\n",
       "      <td>FT</td>\n",
       "      <td>US</td>\n",
       "      <td>M</td>\n",
       "      <td>100</td>\n",
       "      <td>143225.0</td>\n",
       "      <td>55086.264071</td>\n",
       "    </tr>\n",
       "    <tr>\n",
       "      <th>606</th>\n",
       "      <td>2022</td>\n",
       "      <td>AI Scientist</td>\n",
       "      <td>Mid</td>\n",
       "      <td>FT</td>\n",
       "      <td>IN</td>\n",
       "      <td>L</td>\n",
       "      <td>100</td>\n",
       "      <td>190967.0</td>\n",
       "      <td>61014.876754</td>\n",
       "    </tr>\n",
       "  </tbody>\n",
       "</table>\n",
       "<p>597 rows × 9 columns</p>\n",
       "</div>"
      ],
      "text/plain": [
       "     Working_Year                 Designation Experience Employment_Status  \\\n",
       "0            2020              Data Scientist        Mid                FT   \n",
       "1            2020  Machine Learning Scientist     Senior                FT   \n",
       "2            2020           Big Data Engineer     Senior                FT   \n",
       "3            2020        Product Data Analyst        Mid                FT   \n",
       "4            2020   Machine Learning Engineer     Senior                FT   \n",
       "..            ...                         ...        ...               ...   \n",
       "602          2022               Data Engineer     Senior                FT   \n",
       "603          2022               Data Engineer     Senior                FT   \n",
       "604          2022                Data Analyst     Senior                FT   \n",
       "605          2022                Data Analyst     Senior                FT   \n",
       "606          2022                AI Scientist        Mid                FT   \n",
       "\n",
       "    Employee_Location Company_Size  Remote_Working_Ratio  Salary_USD  \\\n",
       "0                  DE            L                     0     76227.0   \n",
       "1                  JP            S                     0    248257.0   \n",
       "2                  GB            M                    50    104100.0   \n",
       "3                  HN            S                     0     19097.0   \n",
       "4                  US            L                    50    143225.0   \n",
       "..                ...          ...                   ...         ...   \n",
       "602                US            M                   100    147044.0   \n",
       "603                US            M                   100    120309.0   \n",
       "604                US            M                     0    123174.0   \n",
       "605                US            M                   100    143225.0   \n",
       "606                IN            L                   100    190967.0   \n",
       "\n",
       "          std_dev  \n",
       "0    61014.876754  \n",
       "1    55086.264071  \n",
       "2    55086.264071  \n",
       "3    61014.876754  \n",
       "4    55086.264071  \n",
       "..            ...  \n",
       "602  55086.264071  \n",
       "603  55086.264071  \n",
       "604  55086.264071  \n",
       "605  55086.264071  \n",
       "606  61014.876754  \n",
       "\n",
       "[597 rows x 9 columns]"
      ]
     },
     "execution_count": 60,
     "metadata": {},
     "output_type": "execute_result"
    }
   ],
   "source": [
    "no_outliers"
   ]
  },
  {
   "cell_type": "code",
   "execution_count": 61,
   "id": "6b6102a5",
   "metadata": {},
   "outputs": [
    {
     "name": "stdout",
     "output_type": "stream",
     "text": [
      "count       597.000000\n",
      "mean     102328.480737\n",
      "std       55910.790653\n",
      "min        2730.000000\n",
      "25%       59819.000000\n",
      "50%       95483.000000\n",
      "75%      141565.000000\n",
      "max      263534.000000\n",
      "Name: Salary_USD, dtype: float64\n"
     ]
    }
   ],
   "source": [
    "print(no_outliers[\"Salary_USD\"].describe())"
   ]
  },
  {
   "cell_type": "code",
   "execution_count": 62,
   "id": "a5bc77ef",
   "metadata": {},
   "outputs": [
    {
     "data": {
      "text/plain": [
       "<Axes: xlabel='Salary_USD', ylabel='Count'>"
      ]
     },
     "execution_count": 62,
     "metadata": {},
     "output_type": "execute_result"
    },
    {
     "data": {
      "image/png": "[encoded data removed]",
      "text/plain": [
       "<Figure size 640x480 with 1 Axes>"
      ]
     },
     "metadata": {},
     "output_type": "display_data"
    }
   ],
   "source": [
    "sns.histplot(data=salaries,x=\"Salary_USD\")"
   ]
  },
  {
   "cell_type": "code",
   "execution_count": 63,
   "id": "f1ce8d67",
   "metadata": {},
   "outputs": [
    {
     "name": "stdout",
     "output_type": "stream",
     "text": [
      "count     9959.000000\n",
      "mean      8875.160860\n",
      "std       4057.202002\n",
      "min       1759.000000\n",
      "25%       5228.000000\n",
      "50%       8283.000000\n",
      "75%      12284.000000\n",
      "max      23001.000000\n",
      "Name: Price, dtype: float64\n"
     ]
    }
   ],
   "source": [
    "# Find the 75th and 25th percentiles\n",
    "price_seventy_fifth = planes[\"Price\"].quantile(0.75)\n",
    "price_twenty_fifth = planes[\"Price\"].quantile(0.25)\n",
    "\n",
    "# Calculate iqr\n",
    "prices_iqr = price_seventy_fifth - price_twenty_fifth\n",
    "\n",
    "# Calculate the thresholds\n",
    "upper = price_seventy_fifth + (1.5 * prices_iqr)\n",
    "lower = price_twenty_fifth - (1.5 * prices_iqr)\n",
    "\n",
    "# Subset the data\n",
    "planes = planes[(planes[\"Price\"] >lower) & (planes[\"Price\"] < upper)]\n",
    "\n",
    "print(planes[\"Price\"].describe())"
   ]
  },
  {
   "cell_type": "code",
   "execution_count": 45,
   "id": "bdedf3bc",
   "metadata": {},
   "outputs": [
    {
     "data": {
      "text/html": [
       "<div>\n",
       "<style scoped>\n",
       "    .dataframe tbody tr th:only-of-type {\n",
       "        vertical-align: middle;\n",
       "    }\n",
       "\n",
       "    .dataframe tbody tr th {\n",
       "        vertical-align: top;\n",
       "    }\n",
       "\n",
       "    .dataframe thead th {\n",
       "        text-align: right;\n",
       "    }\n",
       "</style>\n",
       "<table border=\"1\" class=\"dataframe\">\n",
       "  <thead>\n",
       "    <tr style=\"text-align: right;\">\n",
       "      <th></th>\n",
       "      <th>Duration</th>\n",
       "    </tr>\n",
       "  </thead>\n",
       "  <tbody>\n",
       "    <tr>\n",
       "      <th>0</th>\n",
       "      <td>5 25m</td>\n",
       "    </tr>\n",
       "    <tr>\n",
       "      <th>1</th>\n",
       "      <td>3 40m</td>\n",
       "    </tr>\n",
       "    <tr>\n",
       "      <th>2</th>\n",
       "      <td>7 15m</td>\n",
       "    </tr>\n",
       "    <tr>\n",
       "      <th>3</th>\n",
       "      <td>2 30m</td>\n",
       "    </tr>\n",
       "  </tbody>\n",
       "</table>\n",
       "</div>"
      ],
      "text/plain": [
       "  Duration\n",
       "0    5 25m\n",
       "1    3 40m\n",
       "2    7 15m\n",
       "3    2 30m"
      ]
     },
     "execution_count": 45,
     "metadata": {},
     "output_type": "execute_result"
    }
   ],
   "source": []
  },
  {
   "cell_type": "code",
   "execution_count": null,
   "id": "09d1c7f2",
   "metadata": {},
   "outputs": [],
   "source": []
  }
 ],
 "metadata": {
  "kernelspec": {
   "display_name": "Python 3 (ipykernel)",
   "language": "python",
   "name": "python3"
  },
  "language_info": {
   "codemirror_mode": {
    "name": "ipython",
    "version": 3
   },
   "file_extension": ".py",
   "mimetype": "text/x-python",
   "name": "python",
   "nbconvert_exporter": "python",
   "pygments_lexer": "ipython3",
   "version": "3.10.9"
  }
 },
 "nbformat": 4,
 "nbformat_minor": 5
}
